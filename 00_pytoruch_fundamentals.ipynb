{
  "nbformat": 4,
  "nbformat_minor": 0,
  "metadata": {
    "colab": {
      "provenance": [],
      "gpuType": "T4",
      "collapsed_sections": [
        "5hNlFh54lOp-",
        "PhXepHB-E7d3"
      ],
      "authorship_tag": "ABX9TyPjA5QzilJiu6x5LolcHz11",
      "include_colab_link": true
    },
    "kernelspec": {
      "name": "python3",
      "display_name": "Python 3"
    },
    "language_info": {
      "name": "python"
    }
  },
  "cells": [
    {
      "cell_type": "markdown",
      "metadata": {
        "id": "view-in-github",
        "colab_type": "text"
      },
      "source": [
        "<a href=\"https://colab.research.google.com/github/aynandu/Python-DeepLearning/blob/master/00_pytoruch_fundamentals.ipynb\" target=\"_parent\"><img src=\"https://colab.research.google.com/assets/colab-badge.svg\" alt=\"Open In Colab\"/></a>"
      ]
    },
    {
      "cell_type": "markdown",
      "source": [
        "#**00-Pytourch Fundamentals**\n",
        "\n",
        "Resource Book : https://www.learnpytorch.io/00_pytorch_fundamentals/\n",
        "Questions : https://github.com/mrdbourke/pytorch-deep-learning/discussions"
      ],
      "metadata": {
        "id": "5hNlFh54lOp-"
      }
    },
    {
      "cell_type": "code",
      "source": [
        "import torch\n",
        "import pandas as pd\n",
        "import numpy as np\n",
        "import matplotlib.pyplot as plt\n",
        "print(torch.__version__)\n"
      ],
      "metadata": {
        "colab": {
          "base_uri": "https://localhost:8080/"
        },
        "id": "cUHIIgmSjbXu",
        "outputId": "8b31fb20-490c-49be-a990-26a7a028a5fa"
      },
      "execution_count": 5,
      "outputs": [
        {
          "output_type": "stream",
          "name": "stdout",
          "text": [
            "2.0.1+cu118\n"
          ]
        }
      ]
    },
    {
      "cell_type": "markdown",
      "source": [
        "#Introduction to Tensors\n",
        "\n",
        "###Creating tensors\n",
        "\n",
        "PyTorch Tensors are Created Using 'torch.tensor()' : - https://pytorch.org/docs/stable/tensors.html\n",
        "\n",
        "Tensor : - https://en.wikipedia.org/wiki/Tensor\n",
        "\n",
        "#scalar = 1 , \n",
        "#Vector = \n",
        "        [\n",
        "          1\n",
        "          2] \n",
        "#matrix = \n",
        "      [\n",
        "          1 2\n",
        "          3 4\n",
        "              ] \n",
        "#tesnor = \n",
        "      [\n",
        "          [1 2] [3 2]\n",
        "          [1 7] [5 4]\n",
        "                    ]"
      ],
      "metadata": {
        "id": "PhXepHB-E7d3"
      }
    },
    {
      "cell_type": "code",
      "source": [
        "#scalar\n",
        "scalar = torch.tensor(7)\n",
        "scalar\n"
      ],
      "metadata": {
        "id": "DujgWC4-BGfV",
        "colab": {
          "base_uri": "https://localhost:8080/"
        },
        "outputId": "cc5f96a4-c77d-41e9-f605-c7d5bcef2071"
      },
      "execution_count": 6,
      "outputs": [
        {
          "output_type": "execute_result",
          "data": {
            "text/plain": [
              "tensor(7)"
            ]
          },
          "metadata": {},
          "execution_count": 6
        }
      ]
    },
    {
      "cell_type": "code",
      "source": [
        "#ndimention - scalar\n",
        "scalar.ndim"
      ],
      "metadata": {
        "colab": {
          "base_uri": "https://localhost:8080/"
        },
        "id": "tjlOH9OuGjWQ",
        "outputId": "a5bf2da9-cda4-47b9-f2d9-af5283b8e868"
      },
      "execution_count": 12,
      "outputs": [
        {
          "output_type": "execute_result",
          "data": {
            "text/plain": [
              "0"
            ]
          },
          "metadata": {},
          "execution_count": 12
        }
      ]
    },
    {
      "cell_type": "code",
      "source": [
        "#Size\n",
        "scalar.shape"
      ],
      "metadata": {
        "colab": {
          "base_uri": "https://localhost:8080/"
        },
        "id": "EAQQ6CjpcDE-",
        "outputId": "d0cd3075-f40f-43b1-b850-e8f3d494866b"
      },
      "execution_count": 13,
      "outputs": [
        {
          "output_type": "execute_result",
          "data": {
            "text/plain": [
              "torch.Size([])"
            ]
          },
          "metadata": {},
          "execution_count": 13
        }
      ]
    },
    {
      "cell_type": "code",
      "source": [
        "#Get Tensor Back as Python int\n",
        "scalar.item()"
      ],
      "metadata": {
        "colab": {
          "base_uri": "https://localhost:8080/"
        },
        "id": "fDFHEUFrGooz",
        "outputId": "3b018063-55b9-4618-8b76-96e99555ad0d"
      },
      "execution_count": 8,
      "outputs": [
        {
          "output_type": "execute_result",
          "data": {
            "text/plain": [
              "7"
            ]
          },
          "metadata": {},
          "execution_count": 8
        }
      ]
    },
    {
      "cell_type": "code",
      "source": [
        "#vector\n",
        "vector=torch.tensor([7,7])\n",
        "vector"
      ],
      "metadata": {
        "colab": {
          "base_uri": "https://localhost:8080/"
        },
        "id": "gbiCoe5xY2qj",
        "outputId": "24f64fff-9a15-4d51-bdab-cfc716aadbd8"
      },
      "execution_count": 9,
      "outputs": [
        {
          "output_type": "execute_result",
          "data": {
            "text/plain": [
              "tensor([7, 7])"
            ]
          },
          "metadata": {},
          "execution_count": 9
        }
      ]
    },
    {
      "cell_type": "code",
      "source": [
        "#ndimention - Vector\n",
        "vector.ndim"
      ],
      "metadata": {
        "colab": {
          "base_uri": "https://localhost:8080/"
        },
        "id": "rX3fH0ZPbip9",
        "outputId": "21a0ba71-f951-4958-c267-da587bf60a88"
      },
      "execution_count": 10,
      "outputs": [
        {
          "output_type": "execute_result",
          "data": {
            "text/plain": [
              "1"
            ]
          },
          "metadata": {},
          "execution_count": 10
        }
      ]
    },
    {
      "cell_type": "code",
      "source": [
        "#size\n",
        "vector.shape"
      ],
      "metadata": {
        "colab": {
          "base_uri": "https://localhost:8080/"
        },
        "id": "pcSuf1Cmbz0-",
        "outputId": "827f2e09-8867-4b58-f5b0-5adb952b4da5"
      },
      "execution_count": 14,
      "outputs": [
        {
          "output_type": "execute_result",
          "data": {
            "text/plain": [
              "torch.Size([2])"
            ]
          },
          "metadata": {},
          "execution_count": 14
        }
      ]
    },
    {
      "cell_type": "code",
      "source": [
        "#Matrix\n",
        "MATRIX =torch.tensor([[7,8],\n",
        "                      [9,10],\n",
        "                      [11,12]])\n",
        "MATRIX"
      ],
      "metadata": {
        "colab": {
          "base_uri": "https://localhost:8080/"
        },
        "id": "ouWxKokFclTX",
        "outputId": "9fcc6636-3ea1-4288-d7b6-b39623759ac8"
      },
      "execution_count": 33,
      "outputs": [
        {
          "output_type": "execute_result",
          "data": {
            "text/plain": [
              "tensor([[ 7,  8],\n",
              "        [ 9, 10],\n",
              "        [11, 12]])"
            ]
          },
          "metadata": {},
          "execution_count": 33
        }
      ]
    },
    {
      "cell_type": "code",
      "source": [
        "#ndimentions\n",
        "MATRIX.ndim\n"
      ],
      "metadata": {
        "colab": {
          "base_uri": "https://localhost:8080/"
        },
        "id": "WMASLKM5dCDo",
        "outputId": "f2c40f7b-0a02-45ce-9b3f-fd0b0cbf961d"
      },
      "execution_count": 34,
      "outputs": [
        {
          "output_type": "execute_result",
          "data": {
            "text/plain": [
              "2"
            ]
          },
          "metadata": {},
          "execution_count": 34
        }
      ]
    },
    {
      "cell_type": "code",
      "source": [
        "MATRIX[0]"
      ],
      "metadata": {
        "colab": {
          "base_uri": "https://localhost:8080/"
        },
        "id": "NsMVPg1LmUWB",
        "outputId": "f4cb3ccc-b6ee-40d3-ab8b-269529c0a5f3"
      },
      "execution_count": 20,
      "outputs": [
        {
          "output_type": "execute_result",
          "data": {
            "text/plain": [
              "tensor([7, 8])"
            ]
          },
          "metadata": {},
          "execution_count": 20
        }
      ]
    },
    {
      "cell_type": "code",
      "source": [
        "#Size\n",
        "MATRIX.shape"
      ],
      "metadata": {
        "colab": {
          "base_uri": "https://localhost:8080/"
        },
        "id": "3MAa9AhDdJZh",
        "outputId": "f6746c8b-c415-4c39-be90-f7a7d27f3697"
      },
      "execution_count": 35,
      "outputs": [
        {
          "output_type": "execute_result",
          "data": {
            "text/plain": [
              "torch.Size([3, 2])"
            ]
          },
          "metadata": {},
          "execution_count": 35
        }
      ]
    },
    {
      "cell_type": "code",
      "source": [
        "#Tensor\n",
        "TENSOR = torch.tensor([[[1,2,3],\n",
        "                        [3,6,9],\n",
        "                        [2,4,5],\n",
        "                        [1,3,8]]])\n",
        "TENSOR\n",
        "#pink parent has 1 child \"blue\"; blue parent has 4 (column) child \"yellow\";each yellow having 3 (row) child values. it becomes shape of (1,4,3)"
      ],
      "metadata": {
        "colab": {
          "base_uri": "https://localhost:8080/"
        },
        "id": "3pm1GqI-mvk1",
        "outputId": "eb5e4e20-b3eb-4c25-c58a-b9ee83119574"
      },
      "execution_count": 45,
      "outputs": [
        {
          "output_type": "execute_result",
          "data": {
            "text/plain": [
              "tensor([[[1, 2, 3],\n",
              "         [3, 6, 9],\n",
              "         [2, 4, 5],\n",
              "         [1, 3, 8]]])"
            ]
          },
          "metadata": {},
          "execution_count": 45
        }
      ]
    },
    {
      "cell_type": "code",
      "source": [
        "#ndimenstion\n",
        "TENSOR.ndim"
      ],
      "metadata": {
        "colab": {
          "base_uri": "https://localhost:8080/"
        },
        "id": "FuL2nEKFn9by",
        "outputId": "580a6dd7-ee79-4bab-d921-a647a01df28c"
      },
      "execution_count": 31,
      "outputs": [
        {
          "output_type": "execute_result",
          "data": {
            "text/plain": [
              "3"
            ]
          },
          "metadata": {},
          "execution_count": 31
        }
      ]
    },
    {
      "cell_type": "code",
      "source": [
        "#Size\n",
        "TENSOR.shape"
      ],
      "metadata": {
        "colab": {
          "base_uri": "https://localhost:8080/"
        },
        "id": "zIRYUwejoT0b",
        "outputId": "32c7a545-9654-498a-de65-1f67d0eaf144"
      },
      "execution_count": 43,
      "outputs": [
        {
          "output_type": "execute_result",
          "data": {
            "text/plain": [
              "torch.Size([1, 4, 3])"
            ]
          },
          "metadata": {},
          "execution_count": 43
        }
      ]
    },
    {
      "cell_type": "markdown",
      "source": [
        "#**Random Tensors**\n",
        "\n",
        "###*Why random tensors?*\n",
        "#####Random tensors are important because the way many neural networks learn is that they start with tensors full of random numbers and then adjust those numbers better represent the data. \n",
        "`Start with random numbers -> look at data -> update random numbers -> look at data -> update random numbers`"
      ],
      "metadata": {
        "id": "MThTtHJGwWxs"
      }
    },
    {
      "cell_type": "code",
      "source": [
        "#Create A Random Matric of size\n",
        "random_tensor=torch.rand(2,3,2)\n",
        "random_tensor"
      ],
      "metadata": {
        "colab": {
          "base_uri": "https://localhost:8080/"
        },
        "id": "RvSph3jpwe0Z",
        "outputId": "a678065e-9946-4f01-a977-dddd6b54fc49"
      },
      "execution_count": 54,
      "outputs": [
        {
          "output_type": "execute_result",
          "data": {
            "text/plain": [
              "tensor([[[0.3376, 0.9624],\n",
              "         [0.0719, 0.6790],\n",
              "         [0.8229, 0.6481]],\n",
              "\n",
              "        [[0.8376, 0.4996],\n",
              "         [0.6118, 0.3192],\n",
              "         [0.2769, 0.4486]]])"
            ]
          },
          "metadata": {},
          "execution_count": 54
        }
      ]
    },
    {
      "cell_type": "code",
      "source": [
        "random_tensor.ndim"
      ],
      "metadata": {
        "colab": {
          "base_uri": "https://localhost:8080/"
        },
        "id": "X-7v5cyA1q2x",
        "outputId": "2bcce4c5-4f9b-44da-ea0e-a1aa89cc434c"
      },
      "execution_count": 55,
      "outputs": [
        {
          "output_type": "execute_result",
          "data": {
            "text/plain": [
              "3"
            ]
          },
          "metadata": {},
          "execution_count": 55
        }
      ]
    },
    {
      "cell_type": "code",
      "source": [
        "#Create a random tensor with  similar shape to an image tensor\n",
        "rndm_image_size_tensor = torch.rand(size=(224,224,3)) #height ,width , color Channel (R,G,B)\n",
        "rndm_image_size_tensor.shape ,rndm_image_size_tensor.ndim"
      ],
      "metadata": {
        "colab": {
          "base_uri": "https://localhost:8080/"
        },
        "id": "o8Eqp9sNDjda",
        "outputId": "9d2234d1-2633-4bea-b93b-a4623490273f"
      },
      "execution_count": 56,
      "outputs": [
        {
          "output_type": "execute_result",
          "data": {
            "text/plain": [
              "(torch.Size([224, 224, 3]), 3)"
            ]
          },
          "metadata": {},
          "execution_count": 56
        }
      ]
    }
  ]
}