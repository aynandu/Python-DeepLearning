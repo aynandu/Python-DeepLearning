{
  "cells": [
    {
      "cell_type": "markdown",
      "metadata": {
        "id": "view-in-github",
        "colab_type": "text"
      },
      "source": [
        "<a href=\"https://colab.research.google.com/github/aynandu/Python-DeepLearning/blob/master/00_pytoruch_fundamentals.ipynb\" target=\"_parent\"><img src=\"https://colab.research.google.com/assets/colab-badge.svg\" alt=\"Open In Colab\"/></a>"
      ]
    },
    {
      "cell_type": "markdown",
      "metadata": {
        "id": "5hNlFh54lOp-"
      },
      "source": [
        "#**00-Pytourch Fundamentals**\n",
        "\n",
        "Resource Book : https://www.learnpytorch.io/00_pytorch_fundamentals/\n",
        "Questions : https://github.com/mrdbourke/pytorch-deep-learning/discussions"
      ]
    },
    {
      "cell_type": "code",
      "execution_count": 1,
      "metadata": {
        "colab": {
          "base_uri": "https://localhost:8080/"
        },
        "id": "cUHIIgmSjbXu",
        "outputId": "e6e73283-a0f7-4dba-f6b9-994086859078"
      },
      "outputs": [
        {
          "output_type": "stream",
          "name": "stdout",
          "text": [
            "2.0.1+cu118\n"
          ]
        }
      ],
      "source": [
        "import torch\n",
        "#import pandas as pd\n",
        "import numpy as np\n",
        "import matplotlib.pyplot as plt\n",
        "print(torch.__version__)\n"
      ]
    },
    {
      "cell_type": "markdown",
      "metadata": {
        "id": "PhXepHB-E7d3"
      },
      "source": [
        "#Introduction to Tensors\n",
        "\n",
        "###Creating tensors\n",
        "\n",
        "PyTorch Tensors are Created Using 'torch.tensor()' : - https://pytorch.org/docs/stable/tensors.html\n",
        "\n",
        "Tensor : - https://en.wikipedia.org/wiki/Tensor\n",
        "\n",
        "#scalar = 1 ,\n",
        "#Vector =\n",
        "        [\n",
        "          1\n",
        "          2]\n",
        "#matrix =\n",
        "      [\n",
        "          1 2\n",
        "          3 4\n",
        "              ]\n",
        "#tesnor =\n",
        "      [\n",
        "          [1 2] [3 2]\n",
        "          [1 7] [5 4]\n",
        "                    ]"
      ]
    },
    {
      "cell_type": "code",
      "execution_count": 2,
      "metadata": {
        "colab": {
          "base_uri": "https://localhost:8080/"
        },
        "id": "DujgWC4-BGfV",
        "outputId": "d124c820-5315-4d13-b3ee-2cb81b5da384"
      },
      "outputs": [
        {
          "output_type": "execute_result",
          "data": {
            "text/plain": [
              "tensor(7)"
            ]
          },
          "metadata": {},
          "execution_count": 2
        }
      ],
      "source": [
        "#scalar\n",
        "scalar = torch.tensor(7)\n",
        "scalar\n"
      ]
    },
    {
      "cell_type": "code",
      "execution_count": 3,
      "metadata": {
        "colab": {
          "base_uri": "https://localhost:8080/"
        },
        "id": "tjlOH9OuGjWQ",
        "outputId": "0a3bd357-220a-4a26-dccd-6612aaa03cd4"
      },
      "outputs": [
        {
          "output_type": "execute_result",
          "data": {
            "text/plain": [
              "0"
            ]
          },
          "metadata": {},
          "execution_count": 3
        }
      ],
      "source": [
        "#ndimention - scalar\n",
        "scalar.ndim"
      ]
    },
    {
      "cell_type": "code",
      "execution_count": 4,
      "metadata": {
        "colab": {
          "base_uri": "https://localhost:8080/"
        },
        "id": "EAQQ6CjpcDE-",
        "outputId": "ae93cc08-8d84-4899-89e2-4892b9cc7a45"
      },
      "outputs": [
        {
          "output_type": "execute_result",
          "data": {
            "text/plain": [
              "torch.Size([])"
            ]
          },
          "metadata": {},
          "execution_count": 4
        }
      ],
      "source": [
        "#Size\n",
        "scalar.shape"
      ]
    },
    {
      "cell_type": "code",
      "execution_count": 5,
      "metadata": {
        "colab": {
          "base_uri": "https://localhost:8080/"
        },
        "id": "fDFHEUFrGooz",
        "outputId": "968b79e8-3e59-4ef8-d0cb-57f08d81d9ff"
      },
      "outputs": [
        {
          "output_type": "execute_result",
          "data": {
            "text/plain": [
              "7"
            ]
          },
          "metadata": {},
          "execution_count": 5
        }
      ],
      "source": [
        "#Get Tensor Back as Python int\n",
        "scalar.item()"
      ]
    },
    {
      "cell_type": "code",
      "execution_count": 6,
      "metadata": {
        "colab": {
          "base_uri": "https://localhost:8080/"
        },
        "id": "gbiCoe5xY2qj",
        "outputId": "646277e5-4939-4a66-a804-ff2f6138d86b"
      },
      "outputs": [
        {
          "output_type": "execute_result",
          "data": {
            "text/plain": [
              "tensor([7, 7])"
            ]
          },
          "metadata": {},
          "execution_count": 6
        }
      ],
      "source": [
        "#vector\n",
        "vector=torch.tensor([7,7])\n",
        "vector"
      ]
    },
    {
      "cell_type": "code",
      "execution_count": 7,
      "metadata": {
        "colab": {
          "base_uri": "https://localhost:8080/"
        },
        "id": "rX3fH0ZPbip9",
        "outputId": "d740f584-363b-4d7e-927e-203277a20d97"
      },
      "outputs": [
        {
          "output_type": "execute_result",
          "data": {
            "text/plain": [
              "1"
            ]
          },
          "metadata": {},
          "execution_count": 7
        }
      ],
      "source": [
        "#ndimention - Vector\n",
        "vector.ndim"
      ]
    },
    {
      "cell_type": "code",
      "execution_count": 8,
      "metadata": {
        "colab": {
          "base_uri": "https://localhost:8080/"
        },
        "id": "pcSuf1Cmbz0-",
        "outputId": "0e6480fa-3bea-41fe-9588-4cdad7fc067f"
      },
      "outputs": [
        {
          "output_type": "execute_result",
          "data": {
            "text/plain": [
              "torch.Size([2])"
            ]
          },
          "metadata": {},
          "execution_count": 8
        }
      ],
      "source": [
        "#size\n",
        "vector.shape"
      ]
    },
    {
      "cell_type": "code",
      "execution_count": 9,
      "metadata": {
        "colab": {
          "base_uri": "https://localhost:8080/"
        },
        "id": "ouWxKokFclTX",
        "outputId": "abd1b0fd-fdd8-4e4d-93ec-27455a7d4180"
      },
      "outputs": [
        {
          "output_type": "execute_result",
          "data": {
            "text/plain": [
              "tensor([[ 7,  8],\n",
              "        [ 9, 10],\n",
              "        [11, 12]])"
            ]
          },
          "metadata": {},
          "execution_count": 9
        }
      ],
      "source": [
        "#Matrix\n",
        "MATRIX =torch.tensor([[7,8],\n",
        "                      [9,10],\n",
        "                      [11,12]])\n",
        "MATRIX"
      ]
    },
    {
      "cell_type": "code",
      "execution_count": 10,
      "metadata": {
        "colab": {
          "base_uri": "https://localhost:8080/"
        },
        "id": "WMASLKM5dCDo",
        "outputId": "e23d0c4f-b863-48c5-82b7-d97596bb73f2"
      },
      "outputs": [
        {
          "output_type": "execute_result",
          "data": {
            "text/plain": [
              "2"
            ]
          },
          "metadata": {},
          "execution_count": 10
        }
      ],
      "source": [
        "#ndimentions\n",
        "MATRIX.ndim\n"
      ]
    },
    {
      "cell_type": "code",
      "execution_count": 11,
      "metadata": {
        "colab": {
          "base_uri": "https://localhost:8080/"
        },
        "id": "NsMVPg1LmUWB",
        "outputId": "63262a1c-8a80-43bd-f235-184b060a4a0d"
      },
      "outputs": [
        {
          "output_type": "execute_result",
          "data": {
            "text/plain": [
              "tensor([7, 8])"
            ]
          },
          "metadata": {},
          "execution_count": 11
        }
      ],
      "source": [
        "MATRIX[0]"
      ]
    },
    {
      "cell_type": "code",
      "execution_count": 12,
      "metadata": {
        "colab": {
          "base_uri": "https://localhost:8080/"
        },
        "id": "3MAa9AhDdJZh",
        "outputId": "85d58848-7cf2-4482-cb9c-3d7dbd150b44"
      },
      "outputs": [
        {
          "output_type": "execute_result",
          "data": {
            "text/plain": [
              "torch.Size([3, 2])"
            ]
          },
          "metadata": {},
          "execution_count": 12
        }
      ],
      "source": [
        "#Size\n",
        "MATRIX.shape"
      ]
    },
    {
      "cell_type": "code",
      "execution_count": 13,
      "metadata": {
        "colab": {
          "base_uri": "https://localhost:8080/"
        },
        "id": "3pm1GqI-mvk1",
        "outputId": "33464d95-dc4d-4362-ebdb-e4f9fec331f4"
      },
      "outputs": [
        {
          "output_type": "execute_result",
          "data": {
            "text/plain": [
              "tensor([[[1, 2, 3],\n",
              "         [3, 6, 9],\n",
              "         [2, 4, 5],\n",
              "         [1, 3, 8]]])"
            ]
          },
          "metadata": {},
          "execution_count": 13
        }
      ],
      "source": [
        "#Tensor\n",
        "TENSOR = torch.tensor([[[1,2,3],\n",
        "                        [3,6,9],\n",
        "                        [2,4,5],\n",
        "                        [1,3,8]]])\n",
        "TENSOR\n",
        "#pink parent has 1 child \"blue\"; blue parent has 4 (column) child \"yellow\";each yellow having 3 (row) child values. it becomes shape of (1,4,3)"
      ]
    },
    {
      "cell_type": "code",
      "execution_count": 14,
      "metadata": {
        "colab": {
          "base_uri": "https://localhost:8080/"
        },
        "id": "FuL2nEKFn9by",
        "outputId": "1067e894-a74e-45b1-f224-d1a8e547acf3"
      },
      "outputs": [
        {
          "output_type": "execute_result",
          "data": {
            "text/plain": [
              "3"
            ]
          },
          "metadata": {},
          "execution_count": 14
        }
      ],
      "source": [
        "#ndimenstion\n",
        "TENSOR.ndim"
      ]
    },
    {
      "cell_type": "code",
      "execution_count": 15,
      "metadata": {
        "colab": {
          "base_uri": "https://localhost:8080/"
        },
        "id": "zIRYUwejoT0b",
        "outputId": "3d0f4049-fa69-4b89-8adc-8368b01738ee"
      },
      "outputs": [
        {
          "output_type": "execute_result",
          "data": {
            "text/plain": [
              "torch.Size([1, 4, 3])"
            ]
          },
          "metadata": {},
          "execution_count": 15
        }
      ],
      "source": [
        "#Size\n",
        "TENSOR.shape"
      ]
    },
    {
      "cell_type": "markdown",
      "metadata": {
        "id": "MThTtHJGwWxs"
      },
      "source": [
        "#**Random Tensors**\n",
        "\n",
        "###*Why random tensors?*\n",
        "#####Random tensors are important because the way many neural networks learn is that they start with tensors full of random numbers and then adjust those numbers better represent the data.\n",
        "`Start with random numbers -> look at data -> update random numbers -> look at data -> update random numbers`"
      ]
    },
    {
      "cell_type": "code",
      "execution_count": 16,
      "metadata": {
        "colab": {
          "base_uri": "https://localhost:8080/"
        },
        "id": "RvSph3jpwe0Z",
        "outputId": "4a2f523e-c748-4e17-b21f-ead4a4a19bf0"
      },
      "outputs": [
        {
          "output_type": "execute_result",
          "data": {
            "text/plain": [
              "tensor([[[0.9475, 0.2189, 0.0446, 0.1045],\n",
              "         [0.6592, 0.8930, 0.7874, 0.2966],\n",
              "         [0.0494, 0.0121, 0.1408, 0.3835]],\n",
              "\n",
              "        [[0.3325, 0.4782, 0.1405, 0.4199],\n",
              "         [0.1895, 0.9218, 0.5452, 0.4279],\n",
              "         [0.1291, 0.0381, 0.4413, 0.7883]]])"
            ]
          },
          "metadata": {},
          "execution_count": 16
        }
      ],
      "source": [
        "#Create A Random Matric of size\n",
        "random_tensor=torch.rand(2,3,4)\n",
        "random_tensor"
      ]
    },
    {
      "cell_type": "code",
      "execution_count": 17,
      "metadata": {
        "colab": {
          "base_uri": "https://localhost:8080/"
        },
        "id": "X-7v5cyA1q2x",
        "outputId": "f8e06517-00cf-4e0f-b824-cb246e676977"
      },
      "outputs": [
        {
          "output_type": "execute_result",
          "data": {
            "text/plain": [
              "3"
            ]
          },
          "metadata": {},
          "execution_count": 17
        }
      ],
      "source": [
        "random_tensor.ndim"
      ]
    },
    {
      "cell_type": "code",
      "execution_count": 18,
      "metadata": {
        "colab": {
          "base_uri": "https://localhost:8080/"
        },
        "id": "o8Eqp9sNDjda",
        "outputId": "66c8e7cc-7d0e-4dd9-cdb0-3987d30298a3"
      },
      "outputs": [
        {
          "output_type": "execute_result",
          "data": {
            "text/plain": [
              "(torch.Size([224, 224, 3]), 3)"
            ]
          },
          "metadata": {},
          "execution_count": 18
        }
      ],
      "source": [
        "#Create a random tensor with  similar shape to an image tensor\n",
        "rndm_image_size_tensor = torch.rand(size=(224,224,3)) #height ,width , color Channel (R,G,B)\n",
        "rndm_image_size_tensor.shape ,rndm_image_size_tensor.ndim"
      ]
    },
    {
      "cell_type": "markdown",
      "metadata": {
        "id": "KZGB4O_T2GwF"
      },
      "source": [
        "#Zeros and Ones"
      ]
    },
    {
      "cell_type": "code",
      "execution_count": 19,
      "metadata": {
        "colab": {
          "base_uri": "https://localhost:8080/"
        },
        "id": "X02otN6A2KUZ",
        "outputId": "75a7b34f-2178-4ff8-a402-ed3ccde24942"
      },
      "outputs": [
        {
          "output_type": "execute_result",
          "data": {
            "text/plain": [
              "tensor([[0., 0., 0., 0.],\n",
              "        [0., 0., 0., 0.],\n",
              "        [0., 0., 0., 0.]])"
            ]
          },
          "metadata": {},
          "execution_count": 19
        }
      ],
      "source": [
        "#Create a tensor  of all Zeros\n",
        "zeros= torch.zeros(size=(3,4))\n",
        "zeros"
      ]
    },
    {
      "cell_type": "code",
      "execution_count": 20,
      "metadata": {
        "colab": {
          "base_uri": "https://localhost:8080/"
        },
        "id": "VhsOiq4x2-93",
        "outputId": "1527e12e-b2aa-480d-f2c2-48b7395c0a6a"
      },
      "outputs": [
        {
          "output_type": "execute_result",
          "data": {
            "text/plain": [
              "tensor([[[0., 0., 0., 0.],\n",
              "         [0., 0., 0., 0.],\n",
              "         [0., 0., 0., 0.]],\n",
              "\n",
              "        [[0., 0., 0., 0.],\n",
              "         [0., 0., 0., 0.],\n",
              "         [0., 0., 0., 0.]]])"
            ]
          },
          "metadata": {},
          "execution_count": 20
        }
      ],
      "source": [
        "zeros*random_tensor"
      ]
    },
    {
      "cell_type": "code",
      "execution_count": 21,
      "metadata": {
        "colab": {
          "base_uri": "https://localhost:8080/"
        },
        "id": "1rPAbbju4Sb9",
        "outputId": "5945078f-3bc9-4e49-d6f5-d22b8a893477"
      },
      "outputs": [
        {
          "output_type": "stream",
          "name": "stdout",
          "text": [
            "tensor([[1., 1., 1., 1.],\n",
            "        [1., 1., 1., 1.],\n",
            "        [1., 1., 1., 1.]])\n",
            "torch.float32\n"
          ]
        }
      ],
      "source": [
        "#Create a tensor of all ones\n",
        "ones = torch.ones(size=(3,4))\n",
        "print(ones)\n",
        "print(random_tensor.dtype)"
      ]
    },
    {
      "cell_type": "markdown",
      "metadata": {
        "id": "CtxcmxNm2KDh"
      },
      "source": [
        "Create a range of tensor and tensors - like"
      ]
    },
    {
      "cell_type": "code",
      "execution_count": 22,
      "metadata": {
        "colab": {
          "base_uri": "https://localhost:8080/"
        },
        "id": "lJcqV1FF2KDh",
        "outputId": "331c5116-24af-4c9d-8285-4decf56ea51a"
      },
      "outputs": [
        {
          "output_type": "execute_result",
          "data": {
            "text/plain": [
              "tensor([  0,  50, 100, 150, 200, 250, 300, 350, 400, 450, 500, 550, 600, 650,\n",
              "        700, 750, 800, 850, 900, 950])"
            ]
          },
          "metadata": {},
          "execution_count": 22
        }
      ],
      "source": [
        "#use torch.arange()\n",
        "#torch.range() is also having same function but it will be removed in upcoming updates use torch.arange() instead of that.\n",
        "range_Num=torch.arange(start=0,end=1000,step=50) # no step means default step is 1\n",
        "range_Num"
      ]
    },
    {
      "cell_type": "code",
      "execution_count": 23,
      "metadata": {
        "colab": {
          "base_uri": "https://localhost:8080/"
        },
        "id": "fsEBmVTX2KDi",
        "outputId": "8118891d-ea2d-41c0-d58a-d61bfece03fc"
      },
      "outputs": [
        {
          "output_type": "execute_result",
          "data": {
            "text/plain": [
              "tensor([0, 0, 0, 0, 0, 0, 0, 0, 0, 0, 0, 0, 0, 0, 0, 0, 0, 0, 0, 0])"
            ]
          },
          "metadata": {},
          "execution_count": 23
        }
      ],
      "source": [
        "# Creating a tensors like\n",
        "ten_zeros=torch.zeros_like(input=range_Num)\n",
        "ten_zeros"
      ]
    },
    {
      "cell_type": "markdown",
      "metadata": {
        "id": "OKqcDjx_2KDi"
      },
      "source": [
        "Tensor Data Types\n",
        "\n",
        "`Note : Tensor data type is the one of the 3 big errors you'll run into with Pytorch & Deep Learning`\n",
        "1. Tensors not right datatype\n",
        "2. Tensors not right shape\n",
        "3. Tensors not on the right device\n",
        "\n",
        "Precesion in Computing : https://en.wikipedia.org/wiki/Precision_(computer_science)"
      ]
    },
    {
      "cell_type": "code",
      "execution_count": 24,
      "metadata": {
        "colab": {
          "base_uri": "https://localhost:8080/"
        },
        "id": "Z6FvwJ-o2KDi",
        "outputId": "cbaa861d-dc10-4700-cf5b-c7a24016001f"
      },
      "outputs": [
        {
          "output_type": "execute_result",
          "data": {
            "text/plain": [
              "tensor([3., 6., 9.])"
            ]
          },
          "metadata": {},
          "execution_count": 24
        }
      ],
      "source": [
        "#Float 32 tensor\n",
        "float_32_tensor = torch.tensor([3.0,6.0,9.0],\n",
        "                               dtype=torch.float32,# what datatype is the tensro (eg: float16,float32,float64)\n",
        "                               device=None, #cpu,gpu,cuda\n",
        "                               requires_grad=False)\n",
        "float_32_tensor"
      ]
    },
    {
      "cell_type": "code",
      "execution_count": 25,
      "metadata": {
        "colab": {
          "base_uri": "https://localhost:8080/"
        },
        "id": "4ztjz-ly2KDi",
        "outputId": "b6c77c78-59f2-4c79-ffaa-fc579b5e06c6"
      },
      "outputs": [
        {
          "output_type": "execute_result",
          "data": {
            "text/plain": [
              "torch.float32"
            ]
          },
          "metadata": {},
          "execution_count": 25
        }
      ],
      "source": [
        "float_32_tensor.dtype"
      ]
    },
    {
      "cell_type": "code",
      "execution_count": 26,
      "metadata": {
        "colab": {
          "base_uri": "https://localhost:8080/"
        },
        "id": "RkQJd9td2KDi",
        "outputId": "056be004-83ad-4219-8508-65ed627e1341"
      },
      "outputs": [
        {
          "output_type": "execute_result",
          "data": {
            "text/plain": [
              "tensor([3., 6., 9.], dtype=torch.float16)"
            ]
          },
          "metadata": {},
          "execution_count": 26
        }
      ],
      "source": [
        "float_16_tensor = float_32_tensor.type(torch.float16)\n",
        "float_16_tensor"
      ]
    },
    {
      "cell_type": "code",
      "execution_count": 27,
      "metadata": {
        "colab": {
          "base_uri": "https://localhost:8080/"
        },
        "id": "bQ3Cg0w_2KDi",
        "outputId": "2bb77ed6-9d97-4f00-edbd-1155b14acb46"
      },
      "outputs": [
        {
          "output_type": "stream",
          "name": "stdout",
          "text": [
            "tensor([3, 6, 9], dtype=torch.int32)\n",
            "value is tensor([ 9., 36., 81.]) data type is torch.float32\n"
          ]
        }
      ],
      "source": [
        "int_32_tensor=torch.tensor([3,6,9],dtype=torch.int32)\n",
        "print(int_32_tensor)\n",
        "value= float_32_tensor * int_32_tensor\n",
        "print (f\"value is {value} data type is {value.dtype}\")"
      ]
    },
    {
      "cell_type": "markdown",
      "metadata": {
        "tags": [
          "parameters"
        ],
        "id": "rjtT1xGw2KDj"
      },
      "source": [
        "Get information from tensors (tensor attribute)\n",
        "\n",
        "1. tensor not right datatype -  to  get datatype from a tensor, can use  `tensor.dtype`\n",
        "2. tensor not right shape -  to  get shape from a tensor, can use  `tensor.shape`\n",
        "1. tensor not on the right device -  to get device  from a tensor, can use  `tensor.device`"
      ]
    },
    {
      "cell_type": "code",
      "execution_count": 28,
      "metadata": {
        "colab": {
          "base_uri": "https://localhost:8080/"
        },
        "id": "8HRGSoC62KDj",
        "outputId": "6a2df206-4226-468b-efed-2b5b0faa6bce"
      },
      "outputs": [
        {
          "output_type": "execute_result",
          "data": {
            "text/plain": [
              "tensor([[0.9868, 0.2671, 0.9884, 0.2553],\n",
              "        [0.7338, 0.0157, 0.8410, 0.1093],\n",
              "        [0.6749, 0.9867, 0.5362, 0.4662]])"
            ]
          },
          "metadata": {},
          "execution_count": 28
        }
      ],
      "source": [
        "# Create a random tensor\n",
        "some_tensor = torch.rand(3,4)\n",
        "some_tensor"
      ]
    },
    {
      "cell_type": "code",
      "execution_count": 29,
      "metadata": {
        "colab": {
          "base_uri": "https://localhost:8080/"
        },
        "id": "CbKObHj22KDj",
        "outputId": "1b58f640-5da3-4d91-f330-8bdd897ddc3a"
      },
      "outputs": [
        {
          "output_type": "stream",
          "name": "stdout",
          "text": [
            "Data Type : torch.float32 | Shape : torch.Size([3, 4]) | Size : <built-in method size of Tensor object at 0x7fdf64962890> |  Device : cpu\n"
          ]
        }
      ],
      "source": [
        "#Find out details about Some Tensor\n",
        "print(f\"Data Type : {some_tensor.dtype} | Shape : {some_tensor.shape} | Size : {some_tensor.size} |  Device : {some_tensor.device}\")\n",
        "# NB: some_tensor.size is a fun not attribute"
      ]
    },
    {
      "cell_type": "markdown",
      "metadata": {
        "id": "W_VuDcVo2KDj"
      },
      "source": [
        "Maaipulating Tensor (tensor operations)\n",
        "\n",
        "Tensor operations include :\n",
        "* Addition\n",
        "* Subtraction\n",
        "* Multiplication (Element-wise)\n",
        "* Division\n",
        "* Matrix multplication\n",
        "\n"
      ]
    },
    {
      "cell_type": "code",
      "execution_count": 30,
      "metadata": {
        "colab": {
          "base_uri": "https://localhost:8080/"
        },
        "id": "qAQ4rbJ42KDj",
        "outputId": "31406a18-77aa-4d32-ec06-8688145611c6"
      },
      "outputs": [
        {
          "output_type": "stream",
          "name": "stdout",
          "text": [
            "tensor([ 2,  4, 10])\n",
            "\n",
            " Addition :  tensor([12, 14, 20])\n",
            "\n",
            " Multiply :  tensor([ 20,  40, 100])\n",
            "\n",
            " Subtract :  tensor([-8, -6,  0])\n"
          ]
        }
      ],
      "source": [
        "# Create a Tensor\n",
        "tensor_manip = torch.tensor([2,4,10])\n",
        "print(tensor_manip)\n",
        "# Addition\n",
        "print(\"\\n Addition : \" , tensor_manip+10)\n",
        "# Multiply\n",
        "print(\"\\n Multiply : \" , tensor_manip*10)\n",
        "#Subtract\n",
        "print(\"\\n Subtract : \" , tensor_manip-10)"
      ]
    },
    {
      "cell_type": "code",
      "execution_count": 31,
      "metadata": {
        "colab": {
          "base_uri": "https://localhost:8080/"
        },
        "id": "KCwWc-mG2KDk",
        "outputId": "15b683ca-d156-409e-8abf-0582f04ccb27"
      },
      "outputs": [
        {
          "output_type": "stream",
          "name": "stdout",
          "text": [
            "\n",
            " Addition :  tensor([12, 14, 20])\n",
            "\n",
            " Subtract :  tensor([-8, -6,  0])\n",
            "\n",
            " Multiply :  tensor([ 20,  40, 100])\n"
          ]
        }
      ],
      "source": [
        "# Try out with PyTorch in-built function\n",
        "# Addition\n",
        "print(\"\\n Addition : \" , torch.add(tensor_manip,10))\n",
        "# Subtract\n",
        "print(\"\\n Subtract : \" , torch.sub(tensor_manip,10))\n",
        "# Multiply\n",
        "print(\"\\n Multiply : \" ,  torch.mul(tensor_manip,10))"
      ]
    },
    {
      "cell_type": "markdown",
      "metadata": {
        "id": "kZ97YcXl2KDn"
      },
      "source": [
        "Matrix Multiplication\n",
        "\n",
        "Two main ways of performing Multiplication in neural networks and deep learning\n",
        "\n",
        "1. Element - wise multiplication\n",
        "2. Matrix multiplication (dot product)\n",
        "\n",
        "More Infromation on Multiplying Matrices : https://www.mathsisfun.com/algebra/matrix-multiplying.html\n",
        "\n",
        "and https://www.matrixmultiplication.xyz\n",
        "\n",
        "There are two main rules that performing matrix multiplication to satisfy :\n",
        "1. The **inner dimension** must Match :\n",
        "    * (3,2) @ (3,2) won't work  --> inner dimension  2 (columns) x 3 (rows)\n",
        "    * (2,3) @ (3,2) will work   --> inner dimension  3 (columns) x 3 (rows)\n",
        "    * (3,2) @ (2,3) will work   --> inner dimension  2 (columns) x 2 (rows)\n",
        "2. The resulting Matrixs have he shape of the **outer dimensions** :\n",
        "    * (2,3) @ (3,2) will work   --> outer dimension  2 (rows) x 2 (columns)\n",
        "    * (3,2) @ (2,3) will work   --> outer dimension  3 (rows) x 3 (columns)"
      ]
    },
    {
      "cell_type": "code",
      "execution_count": 32,
      "metadata": {
        "colab": {
          "base_uri": "https://localhost:8080/"
        },
        "id": "VNfx20r02KDn",
        "outputId": "45806113-cdad-488a-d934-60dfe38b8f9c"
      },
      "outputs": [
        {
          "output_type": "stream",
          "name": "stdout",
          "text": [
            "Normal random Matrix :\n",
            " tensor([[0.1220, 0.1678, 0.5268, 0.4451, 0.4860],\n",
            "        [0.8258, 0.5726, 0.8607, 0.4552, 0.5310],\n",
            "        [0.5961, 0.5621, 0.3765, 0.6070, 0.1216]])\n",
            "\n",
            "Resulting Matrix :\n"
          ]
        },
        {
          "output_type": "execute_result",
          "data": {
            "text/plain": [
              "tensor([[0.8420, 1.8799, 1.9014],\n",
              "        [0.7234, 1.5344, 1.9409],\n",
              "        [1.0411, 1.7917, 1.9238]])"
            ]
          },
          "metadata": {},
          "execution_count": 32
        }
      ],
      "source": [
        "print(\"Normal random Matrix :\\n\",torch.rand(3,5))\n",
        "print(\"\\nResulting Matrix :\")\n",
        "torch.matmul(torch.rand(3,5),torch.rand(5,3)) #The resulting Matrixs have he shape of the **outer dimensions** :"
      ]
    },
    {
      "cell_type": "code",
      "execution_count": 33,
      "metadata": {
        "colab": {
          "base_uri": "https://localhost:8080/"
        },
        "id": "FPnd5COb2KDo",
        "outputId": "8813f1a0-33f9-4223-b8ce-cf98827f7c94"
      },
      "outputs": [
        {
          "output_type": "stream",
          "name": "stdout",
          "text": [
            "tensor([1, 2, 3]) * tensor([1, 2, 3])\n",
            "Equals =  tensor([1, 4, 9])\n"
          ]
        }
      ],
      "source": [
        "# Element wise multiplication\n",
        "tensor = torch.tensor([1,2,3])\n",
        "print(tensor, \"*\" , tensor)\n",
        "print(\"Equals = \",tensor*tensor)"
      ]
    },
    {
      "cell_type": "code",
      "execution_count": 34,
      "metadata": {
        "colab": {
          "base_uri": "https://localhost:8080/"
        },
        "id": "QklkISFp2KDo",
        "outputId": "1e79ac83-2ec5-4c51-df32-bf504f7f9bce"
      },
      "outputs": [
        {
          "output_type": "stream",
          "name": "stdout",
          "text": [
            "tensor(14)\n",
            "tensor(14)\n"
          ]
        }
      ],
      "source": [
        "#Matrix Multiplication\n",
        "print (torch.matmul(tensor,tensor))\n",
        "print (torch.dot(tensor,tensor))"
      ]
    },
    {
      "cell_type": "code",
      "execution_count": 35,
      "metadata": {
        "colab": {
          "base_uri": "https://localhost:8080/"
        },
        "id": "D2kaGhtu2KDo",
        "outputId": "f1512b0c-0c99-47b0-c179-a05196cfb1b6"
      },
      "outputs": [
        {
          "output_type": "stream",
          "name": "stdout",
          "text": [
            "tensor(14)\n",
            "CPU times: user 328 µs, sys: 65 µs, total: 393 µs\n",
            "Wall time: 400 µs\n"
          ]
        }
      ],
      "source": [
        "%%time\n",
        "value=0\n",
        "for i in range(len(tensor)):\n",
        "    value+=tensor[i]*tensor[i]\n",
        "print(value)"
      ]
    },
    {
      "cell_type": "code",
      "execution_count": 36,
      "metadata": {
        "colab": {
          "base_uri": "https://localhost:8080/"
        },
        "id": "M1h8LVnN2KDo",
        "outputId": "c9124c50-543f-4bfc-fd34-831f10da18d7"
      },
      "outputs": [
        {
          "output_type": "stream",
          "name": "stdout",
          "text": [
            "tensor(14)\n",
            "CPU times: user 258 µs, sys: 0 ns, total: 258 µs\n",
            "Wall time: 266 µs\n"
          ]
        }
      ],
      "source": [
        "%%time\n",
        "print(torch.matmul(tensor,tensor))"
      ]
    },
    {
      "cell_type": "markdown",
      "metadata": {
        "id": "tXTLYUqI2KDo"
      },
      "source": [
        "One of the Common Errors in deep Learning : shape Errors"
      ]
    },
    {
      "cell_type": "code",
      "execution_count": 39,
      "metadata": {
        "colab": {
          "base_uri": "https://localhost:8080/",
          "height": 217
        },
        "id": "-ptJJ5VD2KDo",
        "outputId": "8b653926-bf15-4942-9e3a-94749e09bb5e"
      },
      "outputs": [
        {
          "output_type": "error",
          "ename": "RuntimeError",
          "evalue": "ignored",
          "traceback": [
            "\u001b[0;31m---------------------------------------------------------------------------\u001b[0m",
            "\u001b[0;31mRuntimeError\u001b[0m                              Traceback (most recent call last)",
            "\u001b[0;32m<ipython-input-39-27c3c53c106c>\u001b[0m in \u001b[0;36m<cell line: 8>\u001b[0;34m()\u001b[0m\n\u001b[1;32m      6\u001b[0m                          \u001b[0;34m[\u001b[0m\u001b[0;36m8\u001b[0m\u001b[0;34m,\u001b[0m\u001b[0;36m11\u001b[0m\u001b[0;34m]\u001b[0m\u001b[0;34m,\u001b[0m\u001b[0;34m\u001b[0m\u001b[0;34m\u001b[0m\u001b[0m\n\u001b[1;32m      7\u001b[0m                          [9,12]])   \n\u001b[0;32m----> 8\u001b[0;31m \u001b[0mtorch\u001b[0m\u001b[0;34m.\u001b[0m\u001b[0mmm\u001b[0m\u001b[0;34m(\u001b[0m\u001b[0mtensor_A\u001b[0m\u001b[0;34m,\u001b[0m\u001b[0mtensor_B\u001b[0m\u001b[0;34m)\u001b[0m \u001b[0;31m#torch.mm is torch.matmul\u001b[0m\u001b[0;34m\u001b[0m\u001b[0;34m\u001b[0m\u001b[0m\n\u001b[0m\u001b[1;32m      9\u001b[0m \u001b[0;31m# Cell No:27 - Error 2-- shape error\u001b[0m\u001b[0;34m\u001b[0m\u001b[0;34m\u001b[0m\u001b[0m\n",
            "\u001b[0;31mRuntimeError\u001b[0m: mat1 and mat2 shapes cannot be multiplied (3x2 and 3x2)"
          ]
        }
      ],
      "source": [
        "tensor_A = torch.tensor([[1,2],\n",
        "                         [3,4],\n",
        "                         [5,6]])\n",
        "\n",
        "tensor_B = torch.tensor([[7,10],\n",
        "                         [8,11],\n",
        "                         [9,12]])\n",
        "torch.mm(tensor_A,tensor_B) #torch.mm is torch.matmul\n",
        "# Cell No:27 - Error 2-- shape error"
      ]
    },
    {
      "cell_type": "code",
      "execution_count": 40,
      "metadata": {
        "colab": {
          "base_uri": "https://localhost:8080/"
        },
        "id": "EkNoySEc2KDp",
        "outputId": "c7d43302-d6c2-4e4d-815d-fb319462581e"
      },
      "outputs": [
        {
          "output_type": "execute_result",
          "data": {
            "text/plain": [
              "(torch.Size([3, 2]), torch.Size([3, 2]))"
            ]
          },
          "metadata": {},
          "execution_count": 40
        }
      ],
      "source": [
        "tensor_A.shape,tensor_B.shape"
      ]
    },
    {
      "cell_type": "markdown",
      "metadata": {
        "id": "1QS3BvEQ2KDp"
      },
      "source": [
        "To Fix our tensor shape issues , we can manipulate the shape of one of our tensors using a **transpose**.\n",
        "\n",
        "A **transpose** switches the axes or dimensions of a given tensor"
      ]
    },
    {
      "cell_type": "code",
      "execution_count": 41,
      "metadata": {
        "colab": {
          "base_uri": "https://localhost:8080/"
        },
        "id": "I2r_qkEL2KDp",
        "outputId": "134d19fc-3819-486b-cd75-214bd9a2a66c"
      },
      "outputs": [
        {
          "output_type": "execute_result",
          "data": {
            "text/plain": [
              "(tensor([[ 27,  30,  33],\n",
              "         [ 61,  68,  75],\n",
              "         [ 95, 106, 117]]),\n",
              " torch.Size([3, 3]))"
            ]
          },
          "metadata": {},
          "execution_count": 41
        }
      ],
      "source": [
        "torch.mm(tensor_A,tensor_B.T) , torch.mm(tensor_A,tensor_B.T).shape"
      ]
    },
    {
      "cell_type": "code",
      "execution_count": 42,
      "metadata": {
        "colab": {
          "base_uri": "https://localhost:8080/"
        },
        "id": "qe_J39ED2KDp",
        "outputId": "f4a70b78-24b4-4192-d753-b61d760c67b6"
      },
      "outputs": [
        {
          "output_type": "stream",
          "name": "stdout",
          "text": [
            "Orginal Shapes: tensor_A = torch.Size([3, 2]) tensor_B = torch.Size([3])\n",
            "New Shapes: tensor_A =torch.Size([3, 2]) (same as above) tensor_B.T = torch.Size([2, 3])\n",
            "Multiplying : torch.Size([3, 2]) @ torch.Size([2, 3]) <-- Inner dimension must match\n",
            "\n",
            "Output\n",
            "tensor([[ 27,  30,  33],\n",
            "        [ 61,  68,  75],\n",
            "        [ 95, 106, 117]])\n",
            "\n",
            "Out Shape  : torch.Size([3, 3])\n"
          ]
        }
      ],
      "source": [
        "# Matrix Multiplication works when tensor_B is transposed :\n",
        "print(f\"Orginal Shapes: tensor_A = {tensor_A.shape} tensor_B = {tensor.shape}\")\n",
        "print(f\"New Shapes: tensor_A ={tensor_A.shape} (same as above) tensor_B.T = {tensor_B.T.shape}\")\n",
        "print(f\"Multiplying : {tensor_A.shape} @ {tensor_B.T.shape} <-- Inner dimension must match\")\n",
        "print(\"\\nOutput\")\n",
        "output= torch.mm(tensor_A,tensor_B.T)\n",
        "print(output)\n",
        "print(f\"\\nOut Shape  : {output.shape}\")"
      ]
    },
    {
      "cell_type": "markdown",
      "metadata": {
        "id": "YNm98r4d2KDp"
      },
      "source": [
        "Finding the min, max, mean, sum etc (tensor aggregation)"
      ]
    },
    {
      "cell_type": "code",
      "execution_count": 43,
      "metadata": {
        "colab": {
          "base_uri": "https://localhost:8080/"
        },
        "id": "ZrPM50M42KDp",
        "outputId": "3256503e-65f4-4ed6-9b13-e2ee008dceec"
      },
      "outputs": [
        {
          "output_type": "execute_result",
          "data": {
            "text/plain": [
              "tensor([ 0, 10, 20, 30, 40, 50, 60, 70, 80, 90])"
            ]
          },
          "metadata": {},
          "execution_count": 43
        }
      ],
      "source": [
        "# Create a Tensor\n",
        "x=torch.arange(0,100,10)\n",
        "x"
      ]
    },
    {
      "cell_type": "code",
      "execution_count": 44,
      "metadata": {
        "colab": {
          "base_uri": "https://localhost:8080/"
        },
        "id": "QFxJ55-Q2KDq",
        "outputId": "f763a2a8-65cd-4f1a-bf94-698e9f148ccb"
      },
      "outputs": [
        {
          "output_type": "stream",
          "name": "stdout",
          "text": [
            "min : 0\n",
            "Max : 90 \n",
            "sum 450 also use this method 450\n"
          ]
        }
      ],
      "source": [
        "#Find Max & Min ,sum\n",
        "print(f\"min : {torch.min(x)}\\nMax : {torch.max(x)} \\nsum {torch.sum(x)} also use this method {x.sum()}\")"
      ]
    },
    {
      "cell_type": "code",
      "execution_count": 45,
      "metadata": {
        "colab": {
          "base_uri": "https://localhost:8080/"
        },
        "id": "LwEdj_Ft2KDq",
        "outputId": "03578a4a-c5e3-479b-c619-137d76f895e0"
      },
      "outputs": [
        {
          "output_type": "execute_result",
          "data": {
            "text/plain": [
              "(tensor(45.), tensor(45.))"
            ]
          },
          "metadata": {},
          "execution_count": 45
        }
      ],
      "source": [
        "#Find Mean -  note : the torch.mean() function requires a tensor of float32 datatype to work\n",
        "torch.mean(x.type(torch.float32)), x.type(torch.float32).mean()\n",
        "#print(f\"mean: {torch.mean(x)}\") --> Error : mean(): could not infer output dtype. Input dtype must be either a floating point or complex dtype. Got: Long\n",
        "\n",
        "# Cell No:27 - Error 1- Right Data Type error"
      ]
    },
    {
      "cell_type": "markdown",
      "metadata": {
        "id": "c53LPL5m2KDq"
      },
      "source": [
        "Finding the Positional min and max"
      ]
    },
    {
      "cell_type": "code",
      "execution_count": 46,
      "metadata": {
        "colab": {
          "base_uri": "https://localhost:8080/"
        },
        "id": "sP2kTbte2KDq",
        "outputId": "a7996974-280b-413b-caef-3169a2c48aba"
      },
      "outputs": [
        {
          "output_type": "stream",
          "name": "stdout",
          "text": [
            "tensor(0) tensor(0)\n",
            "tensor(9) tensor(90)\n"
          ]
        }
      ],
      "source": [
        "#find the position in tensor  that has the minimum value with argmin() --> returns index position of target tensor wehere the minimum value occurs\n",
        "print(x.argmin(),x[0])\n",
        "#find the position in tensor  that has the maximum value with argmin() --> returns index position of target tensor wehere the maximum value occurs\n",
        "print(x.argmax(),x[9])"
      ]
    },
    {
      "cell_type": "markdown",
      "metadata": {
        "id": "hMYqlssD2KDq"
      },
      "source": [
        "**Reshaping , stacking , squeezing and unsqueezing tensors**\n",
        "\n",
        "* Reshaping - reshapes an input tensor to a defined shape\n",
        "* View  - Return a view of an input tensor of certain shape but keep the same memory as the Orginal tensor.\n",
        "* Stacking - Combine multiple tensors on the top of each other (vstack) or side by side (hstack);\n",
        "    * torch.stack :- https://pytorch.org/docs/stable/generated/torch.stack.html\n",
        "    * Vstack :- https://pytorch.org/docs/stable/generated/torch.vstack.html   (Stack tensors in sequence vertically (row wise).)\n",
        "    * hstack :- https://pytorch.org/docs/stable/generated/torch.hstack.html   (Stack tensors in sequence horizontally (column wise).)\n",
        "\n",
        "* Squeeze - removes all 1 dimensions from a tensor ; https://pytorch.org/docs/stable/generated/torch.squeeze.html\n",
        "* Unsqueeze - Add a 1 domension to a target tensor\n",
        "* Permute - Return  a View of the input with dimensions permuted (swapped) in a certain way\n"
      ]
    },
    {
      "cell_type": "markdown",
      "metadata": {
        "id": "8GuV9KKm2KDr"
      },
      "source": [
        "* രീഷേപ് - ഇന്പുട്ട് ടെൻസർ ഒരു നിർവ്വചിത ആകർഷണത്തിലേക്ക് രീഷേപ് ചെയ്യുന്നു\n",
        "* വ്യൂ - ഒരു ഇൻപുട്ട് ടെൻസർ നിരീക്ഷണരൂപത്തിൽ ഒരു കൊടുത്ത ആകർഷണം ലഭിക്കുന്നു, പക്ഷേ ഓരോരുത്തരും ഒരേ മെമ്മറിയിൽ നിന്നും ഉണ്ടാക്കുന്നു.\n",
        "* സ്റ്റാക്ക് - ഒന്നിലധികം ടെൻസർമാരെ top of each other ഒരുമിക്കും ചേർത്ത് ഉണ്ടാക്കുന്നു (VStack) അല്ലെങ്കിൽ side by side ഒരുമിക്കും പ്രത്യേക പകർപ്പ് (hStack) ചേർത്ത് ഉണ്ടാക്കുന്നു.\n",
        "* സ്വീസ് - ഒരു ടെൻസർമാരിൽ നിന്ന് എല്ലാ 1 ആകർഷണങ്ങളും നീക്കം ചെയ്യുന്നു\n",
        "* അൺസ്വീസ് - ഒരു ലക്ഷ്യമായ ടെൻസർമാരിൽ 1 ഡിമൻഷൻ ചേർക്കുന്നു\n",
        "* പർമ്യൂട്ട് - നിർവ്വചിത രീതിയിൽ ടെൻസർ ഡിമൻഷൻസുകൾ പെർമ്യൂട്ട് ചെയ്യുന്നു (അനുസ്വരിച്ച് മാറ്റുന്നു) എന്നതാണ് പർമ്യൂട്ട് എന്നത്"
      ]
    },
    {
      "cell_type": "code",
      "execution_count": 47,
      "metadata": {
        "colab": {
          "base_uri": "https://localhost:8080/"
        },
        "id": "SiW6Ff1E2KDr",
        "outputId": "e3e7598e-b84f-4c94-8e70-868f42740e1b"
      },
      "outputs": [
        {
          "output_type": "execute_result",
          "data": {
            "text/plain": [
              "(tensor([1., 2., 3., 4., 5., 6., 7., 8., 9.]), torch.Size([9]))"
            ]
          },
          "metadata": {},
          "execution_count": 47
        }
      ],
      "source": [
        "# Create a tensor\n",
        "N=torch.arange(1.,10.)\n",
        "N,N.shape\n",
        "# Here N having 9 elements at 1 dimensional with a size of 9 ---> (1)"
      ]
    },
    {
      "cell_type": "code",
      "execution_count": 48,
      "metadata": {
        "colab": {
          "base_uri": "https://localhost:8080/"
        },
        "id": "gAVDkzam2KDr",
        "outputId": "932e9c7b-31db-4cc4-860d-5d796cc2aa8a"
      },
      "outputs": [
        {
          "output_type": "stream",
          "name": "stdout",
          "text": [
            "N_reshape : tensor([[6., 2., 3., 4., 5., 6., 7., 8., 9.]])\n",
            " N : tensor([6., 2., 3., 4., 5., 6., 7., 8., 9.])\n"
          ]
        }
      ],
      "source": [
        "# Add an Extra Dimension\n",
        "N_reshape = N.reshape(1,9)\n",
        "N_reshape[:,0]=6\n",
        "N_reshape,N_reshape.shape\n",
        "print(f\"N_reshape : {N_reshape}\\n N : {N}\")\n",
        "# As we know that from (1) Elements in N is reshaped in certain shape which is multiply in both ways to get the size of N. (1,9),(9,1),(3,3) = 9 (Row x Column)\n",
        "# Else Eg : shape '[5, 3]' is invalid for input of size 9"
      ]
    },
    {
      "cell_type": "code",
      "execution_count": 49,
      "metadata": {
        "colab": {
          "base_uri": "https://localhost:8080/"
        },
        "id": "qYZzEKe42KDs",
        "outputId": "78de5e1d-f738-4040-fbae-dbe1d198a14e"
      },
      "outputs": [
        {
          "output_type": "stream",
          "name": "stdout",
          "text": [
            "N_view : tensor([[5., 2., 3., 4., 5., 6., 7., 8., 9.]])\n",
            " N : tensor([5., 2., 3., 4., 5., 6., 7., 8., 9.])\n"
          ]
        }
      ],
      "source": [
        "# Change the View\n",
        "N_view=N.view(1,9)\n",
        "N_view[:,0]=5\n",
        "print(f\"N_view : {N_view}\\n N : {N}\")\n",
        "# Changing Z changes N (because a view of a tensor shares the same memory as the orginal)"
      ]
    },
    {
      "cell_type": "code",
      "execution_count": 50,
      "metadata": {
        "colab": {
          "base_uri": "https://localhost:8080/"
        },
        "id": "i0eXBqKw2KDs",
        "outputId": "d53fe725-381b-4a19-f3c9-1a7601998e1f"
      },
      "outputs": [
        {
          "output_type": "execute_result",
          "data": {
            "text/plain": [
              "(tensor([[5., 5., 5., 5.],\n",
              "         [2., 2., 2., 2.],\n",
              "         [3., 3., 3., 3.],\n",
              "         [4., 4., 4., 4.],\n",
              "         [5., 5., 5., 5.],\n",
              "         [6., 6., 6., 6.],\n",
              "         [7., 7., 7., 7.],\n",
              "         [8., 8., 8., 8.],\n",
              "         [9., 9., 9., 9.]]),\n",
              " torch.Size([9, 4]))"
            ]
          },
          "metadata": {},
          "execution_count": 50
        }
      ],
      "source": [
        "#Stack tensor on top of each other\n",
        "N_stack = torch.stack([N,N,N,N],dim=1)\n",
        "N_stack,N_stack.shape"
      ]
    },
    {
      "cell_type": "markdown",
      "metadata": {
        "id": "1gXO6u4-2KDs"
      },
      "source": [
        "**torch.Squeeze**"
      ]
    },
    {
      "cell_type": "code",
      "execution_count": 51,
      "metadata": {
        "colab": {
          "base_uri": "https://localhost:8080/"
        },
        "id": "E1ozucGs2KDs",
        "outputId": "e6a4c300-aa7c-48c2-8c59-adf0f07a5d77"
      },
      "outputs": [
        {
          "output_type": "stream",
          "name": "stdout",
          "text": [
            "Previous tensor tensor([[5., 2., 3., 4., 5., 6., 7., 8., 9.]])\n",
            "Previous Size  torch.Size([1, 9])\n",
            "New tensor tensor([5., 2., 3., 4., 5., 6., 7., 8., 9.])\n",
            "New Size  torch.Size([9])\n"
          ]
        }
      ],
      "source": [
        "#torch.squeeze() - remove all single dimensions from a target tensor\n",
        "print(f\"Previous tensor {N_reshape}\\nPrevious Size  {N_reshape.shape}\")\n",
        "#Remove extra dimenstion from N_reshape\n",
        "N_squeezed =N_reshape.squeeze()\n",
        "print(f\"New tensor {N_squeezed}\\nNew Size  {N_squeezed.shape}\")"
      ]
    },
    {
      "cell_type": "markdown",
      "metadata": {
        "id": "4CDmcshy2KDs"
      },
      "source": [
        "*torch.Unsqueeze*"
      ]
    },
    {
      "cell_type": "code",
      "execution_count": 52,
      "metadata": {
        "colab": {
          "base_uri": "https://localhost:8080/"
        },
        "id": "QZDhV8mS2KDt",
        "outputId": "50447258-87ce-403b-e328-3bac9d215c76"
      },
      "outputs": [
        {
          "output_type": "stream",
          "name": "stdout",
          "text": [
            "Previous tensor tensor([5., 2., 3., 4., 5., 6., 7., 8., 9.])\n",
            "Previous Size  torch.Size([9])\n",
            "New tensor tensor([[5., 2., 3., 4., 5., 6., 7., 8., 9.]])\n",
            "New Size  torch.Size([1, 9])\n"
          ]
        }
      ],
      "source": [
        "#torch.unsqueeze()-adds a single dimension to a target tensor at a specific dim (dimension)\n",
        "print(f\"Previous tensor {N_squeezed}\\nPrevious Size  {N_squeezed.shape}\")\n",
        "#Add an extra dimension with unsqueeze\n",
        "N_unsqueez=N_squeezed.unsqueeze(dim=0)\n",
        "print(f\"New tensor {N_unsqueez}\\nNew Size  {N_unsqueez.shape}\")"
      ]
    },
    {
      "cell_type": "markdown",
      "metadata": {
        "id": "dyZl8J6p2KDt"
      },
      "source": [
        "***torch.permute*** - rearrange the dimensions of a target tensor in a specified order"
      ]
    },
    {
      "cell_type": "code",
      "execution_count": 53,
      "metadata": {
        "colab": {
          "base_uri": "https://localhost:8080/"
        },
        "id": "ODwxbiaB2KDt",
        "outputId": "3fcbdcc7-1969-4058-e960-97fe2253c4af"
      },
      "outputs": [
        {
          "output_type": "stream",
          "name": "stdout",
          "text": [
            "Previous Size  torch.Size([9])\n",
            "New Size  torch.Size([1, 9])\n"
          ]
        }
      ],
      "source": [
        "x_orginal = torch.rand(size=(224,225,3)) #Eg: [height,width,color_channel]\n",
        "#Permute the orginal tensor to rearrange the axis (or dim) order\n",
        "x_permuted=x_orginal.permute(2,0,1) #shifts axis (224) 0 -> 1, (225) 1 -> 2 , (3) 2 -> 0\n",
        "\n",
        "print(f\"Previous Size  {N_squeezed.shape}\") #[height,width,color_channel]\n",
        "print(f\"New Size  {N_unsqueez.shape}\") #[color_channel,height,width,]"
      ]
    },
    {
      "cell_type": "code",
      "execution_count": 54,
      "metadata": {
        "colab": {
          "base_uri": "https://localhost:8080/"
        },
        "id": "6_nx2oH22KDt",
        "outputId": "f48263f4-2f36-40be-b6c5-9f2166d4c0d1"
      },
      "outputs": [
        {
          "output_type": "execute_result",
          "data": {
            "text/plain": [
              "(tensor(7289.), tensor(7289.))"
            ]
          },
          "metadata": {},
          "execution_count": 54
        }
      ],
      "source": [
        "x_orginal[0,0,0] = 7289\n",
        "x_orginal[0,0,0] ,x_permuted[0,0,0]"
      ]
    },
    {
      "cell_type": "markdown",
      "metadata": {
        "id": "UlMAaFCg2KDu"
      },
      "source": [
        "**Indexing (Selecting data from tensors)**\n",
        "\n",
        "Indexing with pytorch is similar to indexing with numpy"
      ]
    },
    {
      "cell_type": "code",
      "execution_count": 55,
      "metadata": {
        "colab": {
          "base_uri": "https://localhost:8080/"
        },
        "id": "6_taKokj2KDu",
        "outputId": "c3427df8-92a8-4c1e-aa49-e05c7da5c084"
      },
      "outputs": [
        {
          "output_type": "execute_result",
          "data": {
            "text/plain": [
              "(tensor([[[1, 2, 3],\n",
              "          [4, 5, 6],\n",
              "          [7, 8, 9]]]),\n",
              " torch.Size([1, 3, 3]))"
            ]
          },
          "metadata": {},
          "execution_count": 55
        }
      ],
      "source": [
        "#Create a tensor\n",
        "t=torch.arange(1,10).reshape(1,3,3)\n",
        "t,t.shape"
      ]
    },
    {
      "cell_type": "code",
      "execution_count": 56,
      "metadata": {
        "colab": {
          "base_uri": "https://localhost:8080/"
        },
        "id": "m3q93t1a2KDu",
        "outputId": "29e14a45-9e29-4114-d2a8-c110854d68a9"
      },
      "outputs": [
        {
          "output_type": "execute_result",
          "data": {
            "text/plain": [
              "tensor([[1, 2, 3],\n",
              "        [4, 5, 6],\n",
              "        [7, 8, 9]])"
            ]
          },
          "metadata": {},
          "execution_count": 56
        }
      ],
      "source": [
        "# Let's Index on our new tensor\n",
        "\n",
        "t[0]"
      ]
    },
    {
      "cell_type": "code",
      "execution_count": 57,
      "metadata": {
        "colab": {
          "base_uri": "https://localhost:8080/"
        },
        "id": "EqM_qOKw2KDu",
        "outputId": "55fd2ee7-793d-42e5-e6ec-8954e245a364"
      },
      "outputs": [
        {
          "output_type": "execute_result",
          "data": {
            "text/plain": [
              "tensor([4, 5, 6])"
            ]
          },
          "metadata": {},
          "execution_count": 57
        }
      ],
      "source": [
        "#Let's index on the middle bracket (dim=1)\n",
        "t[0,1]"
      ]
    },
    {
      "cell_type": "code",
      "execution_count": 58,
      "metadata": {
        "colab": {
          "base_uri": "https://localhost:8080/"
        },
        "id": "8LrDvhmC2KDv",
        "outputId": "2605308d-44d0-4dfc-e3b4-3d5828f9e0fc"
      },
      "outputs": [
        {
          "output_type": "execute_result",
          "data": {
            "text/plain": [
              "tensor(6)"
            ]
          },
          "metadata": {},
          "execution_count": 58
        }
      ],
      "source": [
        "#Let's index on the most inner bracket (Last dimension)\n",
        "t[0,1,2]"
      ]
    },
    {
      "cell_type": "code",
      "execution_count": 59,
      "metadata": {
        "colab": {
          "base_uri": "https://localhost:8080/"
        },
        "id": "zc3wK9qv2KDv",
        "outputId": "5ff93707-81dd-4310-b0c3-8a7a0aa11446"
      },
      "outputs": [
        {
          "output_type": "execute_result",
          "data": {
            "text/plain": [
              "tensor([[4, 5, 6]])"
            ]
          },
          "metadata": {},
          "execution_count": 59
        }
      ],
      "source": [
        "# You can also use ':' to select all of a target dimension\n",
        "t[:,1]"
      ]
    },
    {
      "cell_type": "code",
      "execution_count": 60,
      "metadata": {
        "colab": {
          "base_uri": "https://localhost:8080/"
        },
        "id": "2iZ9xV932KDv",
        "outputId": "d9f4a81c-a999-4827-a985-710200f1aedf"
      },
      "outputs": [
        {
          "output_type": "execute_result",
          "data": {
            "text/plain": [
              "tensor([[2, 5, 8]])"
            ]
          },
          "metadata": {},
          "execution_count": 60
        }
      ],
      "source": [
        "#Get all values of 0th and 1st dimensions but only index 1 of 2nd dimension\n",
        "t[:,:,1]"
      ]
    },
    {
      "cell_type": "code",
      "execution_count": 61,
      "metadata": {
        "colab": {
          "base_uri": "https://localhost:8080/"
        },
        "id": "SlgWMrd62KDv",
        "outputId": "b37e7f14-54e9-4343-ad7d-d2813d3a1596"
      },
      "outputs": [
        {
          "output_type": "execute_result",
          "data": {
            "text/plain": [
              "tensor([5])"
            ]
          },
          "metadata": {},
          "execution_count": 61
        }
      ],
      "source": [
        "#Get all values of 0th dimension  but only 1 index value of 1st and 2nd dimension\n",
        "t[:,1,1]"
      ]
    },
    {
      "cell_type": "code",
      "execution_count": 62,
      "metadata": {
        "colab": {
          "base_uri": "https://localhost:8080/"
        },
        "id": "vfnmx7652KDv",
        "outputId": "f9f4f6b3-b25f-4ea7-f0e0-97361bfa9656"
      },
      "outputs": [
        {
          "output_type": "execute_result",
          "data": {
            "text/plain": [
              "tensor([1, 2, 3])"
            ]
          },
          "metadata": {},
          "execution_count": 62
        }
      ],
      "source": [
        "#Get index0 of 0th dimension and 1st dimension and all values of 2nd dimension\n",
        "t[0,0,:]"
      ]
    },
    {
      "cell_type": "code",
      "execution_count": 63,
      "metadata": {
        "colab": {
          "base_uri": "https://localhost:8080/"
        },
        "id": "Qt8aD8c_2KDw",
        "outputId": "ce50c05d-8487-4c76-bd7b-15c928f7bfd1"
      },
      "outputs": [
        {
          "output_type": "stream",
          "name": "stdout",
          "text": [
            "tensor(9)\n",
            "tensor([3, 6, 9])\n"
          ]
        }
      ],
      "source": [
        "#Index on t to return 9\n",
        "print(t[0,2,2])\n",
        "\n",
        "# index on t to return 3,6,9\n",
        "print(t[0,:,2])"
      ]
    },
    {
      "cell_type": "markdown",
      "metadata": {
        "id": "ECAwXomv2KDw"
      },
      "source": [
        "**Pytorch Tensors & Numpy**\n",
        "\n",
        "Numpy is a popular  scientific Python numerical computing library.\n",
        "And because of this,Pytorch has functionality to interact with it.\n",
        "* Data in Numpy, want in PyTorch tensor -> torch.from_numpy(ndarray)\n",
        "* PyTorch tensor -> NumPy -> torch.Tensor.numpy()\n",
        "\n",
        "https://pytorch.org/tutorials/beginner/examples_tensor/polynomial_numpy.html\n",
        "    "
      ]
    },
    {
      "cell_type": "code",
      "execution_count": 64,
      "metadata": {
        "colab": {
          "base_uri": "https://localhost:8080/"
        },
        "id": "okx53ib82KDw",
        "outputId": "e0595045-f66a-4e24-e65f-c6694da29a7d"
      },
      "outputs": [
        {
          "output_type": "execute_result",
          "data": {
            "text/plain": [
              "tensor([1., 2., 3., 4., 5., 6., 7.], dtype=torch.float64)"
            ]
          },
          "metadata": {},
          "execution_count": 64
        }
      ],
      "source": [
        "# Numpy array to tensor\n",
        "import torch\n",
        "import numpy as np\n",
        "array=np.arange(1.0,8.0)\n",
        "tensor_array=torch.from_numpy(array) # Warning : when converting from numpy -> pytorch,pytorch reflects numpy's  default data type of float64 unless specified otherwise\n",
        "tensor_array"
      ]
    },
    {
      "cell_type": "code",
      "execution_count": 65,
      "metadata": {
        "colab": {
          "base_uri": "https://localhost:8080/"
        },
        "id": "hLqXrXZM2KDw",
        "outputId": "f34a3d27-a1d3-43ae-e71a-eefafcad3013"
      },
      "outputs": [
        {
          "output_type": "execute_result",
          "data": {
            "text/plain": [
              "(array([2., 3., 4., 5., 6., 7., 8.]),\n",
              " tensor([1., 2., 3., 4., 5., 6., 7.], dtype=torch.float64))"
            ]
          },
          "metadata": {},
          "execution_count": 65
        }
      ],
      "source": [
        "#Change the value of array, whath will this do to 'tensor'?\n",
        "array=array+1\n",
        "array,tensor_array"
      ]
    },
    {
      "cell_type": "code",
      "execution_count": 66,
      "metadata": {
        "colab": {
          "base_uri": "https://localhost:8080/"
        },
        "id": "1BBCtJNX2KDw",
        "outputId": "2cb4d905-b6b8-43eb-8e34-4692355e25eb"
      },
      "outputs": [
        {
          "output_type": "execute_result",
          "data": {
            "text/plain": [
              "(tensor([1., 1., 1., 1., 1., 1., 1.]),\n",
              " array([1., 1., 1., 1., 1., 1., 1.], dtype=float32))"
            ]
          },
          "metadata": {},
          "execution_count": 66
        }
      ],
      "source": [
        "#Tensor  to Numpy array\n",
        "tensor = torch.ones(7)\n",
        "numpy_tensor=tensor.numpy()\n",
        "tensor,numpy_tensor"
      ]
    },
    {
      "cell_type": "markdown",
      "metadata": {
        "id": "Vo0ZFDIT2KDw"
      },
      "source": [
        "**Reproducbility (trying to take random out of random)**\n",
        "\n",
        "In short how a  neural network learns:\n",
        "\n",
        "`start with random numbers -> tensor operations -> update random numbers to try and make them better representation of the data -> again -> again -> again ...`\n",
        "\n",
        "*To reduce the randomness in neural networks* and Pytorch comes the concept of a **random seed**.\n",
        "Essentially what the random seed does is  \"flavour\" thr randomness.\n",
        "\n",
        "Resource :\n",
        "* https://pytorch.org/docs/stable/notes/randomness.html\n",
        "* https://en.wikipedia.org/wiki/Random_seed"
      ]
    },
    {
      "cell_type": "code",
      "execution_count": 67,
      "metadata": {
        "colab": {
          "base_uri": "https://localhost:8080/"
        },
        "id": "4UtN3ek92KDw",
        "outputId": "4f549bd0-c6bf-452c-d579-f6b7246a4b48"
      },
      "outputs": [
        {
          "output_type": "stream",
          "name": "stdout",
          "text": [
            "tensor([[0.0992, 0.4133, 0.8645, 0.2041],\n",
            "        [0.4275, 0.8773, 0.1250, 0.9706],\n",
            "        [0.3812, 0.3329, 0.0929, 0.6154]]) \n",
            " tensor([[0.4599, 0.8762, 0.4159, 0.8890],\n",
            "        [0.0068, 0.3023, 0.6832, 0.6564],\n",
            "        [0.4613, 0.1536, 0.4057, 0.9618]])\n",
            "tensor([[False, False, False, False],\n",
            "        [False, False, False, False],\n",
            "        [False, False, False, False]])\n"
          ]
        }
      ],
      "source": [
        "#Create teo random tensors\n",
        "random_tensor_A = torch.rand(3,4)\n",
        "random_tensor_B = torch.rand(3,4)\n",
        "\n",
        "print(random_tensor_A ,\"\\n\", random_tensor_B)\n",
        "print(random_tensor_A ==random_tensor_B)"
      ]
    },
    {
      "cell_type": "code",
      "execution_count": 68,
      "metadata": {
        "colab": {
          "base_uri": "https://localhost:8080/"
        },
        "id": "pU4KTcuh2KDx",
        "outputId": "c8def38d-2233-471a-da4a-d0d8ce752f73"
      },
      "outputs": [
        {
          "output_type": "stream",
          "name": "stdout",
          "text": [
            "tensor([[0.8823, 0.9150, 0.3829, 0.9593],\n",
            "        [0.3904, 0.6009, 0.2566, 0.7936],\n",
            "        [0.9408, 0.1332, 0.9346, 0.5936]]) \n",
            " tensor([[0.8823, 0.9150, 0.3829, 0.9593],\n",
            "        [0.3904, 0.6009, 0.2566, 0.7936],\n",
            "        [0.9408, 0.1332, 0.9346, 0.5936]])\n",
            "tensor([[True, True, True, True],\n",
            "        [True, True, True, True],\n",
            "        [True, True, True, True]])\n"
          ]
        }
      ],
      "source": [
        "# Lets Make Some Random but reproducible  tensors\n",
        "\n",
        "# Set the random seed\n",
        "\n",
        "randomSeed=42\n",
        "torch.manual_seed(randomSeed) # --> this random Seed function works only one line below. so repeat it whe ever you require.\n",
        "random_tensor_C = torch.rand(3,4)\n",
        "\n",
        "torch.manual_seed(randomSeed) # --> this random Seed function works only one line below. so repeat it whe ever you require.\n",
        "random_tensor_D = torch.rand(3,4)\n",
        "\n",
        "print(random_tensor_C ,\"\\n\", random_tensor_D)\n",
        "print(random_tensor_C ==random_tensor_D)\n"
      ]
    },
    {
      "cell_type": "markdown",
      "metadata": {
        "id": "lGJBIx7X2KDx"
      },
      "source": [
        "**Running tensors  and pytorch objects on the GPUs (and making faster computations)**\n",
        "\n",
        "GPUs = faster computation on numbers,thanks to CUDA + NVIDIA hardware +Pytorch working behind the scenes to make everything hunky dory (good)\n"
      ]
    },
    {
      "cell_type": "markdown",
      "metadata": {
        "id": "xChUWE3w2KDx"
      },
      "source": [
        "1. Getting a GPU\n",
        "    1. Easiest - Use Google Colab for a free GPU (Options to upgrade as well)\n",
        "    2. Use your own GPU - takes a little bit of setup and requires the investment of purchasing a GPU, there's lots of options ..., see this post for  what option to ger: https://timdettmers.com/category/deep-learning/\n",
        "    3. use cloud computing - GCP,AWS,Azure these services allow you to rent  computers on the cloud and access them.\n",
        "    \n",
        "For 2,3 Pytorch + GPU drivers (CUDA) takes a  littel bit of setting up,to do this ,refer to Pytorch setup documentation : https://pytorch.org/get-started/locally/"
      ]
    },
    {
      "cell_type": "code",
      "source": [
        "!nvidia-smi"
      ],
      "metadata": {
        "colab": {
          "base_uri": "https://localhost:8080/"
        },
        "id": "be-e6aQR7LD2",
        "outputId": "2731fc6e-774d-4ce9-c3c1-970de703f93c"
      },
      "execution_count": 72,
      "outputs": [
        {
          "output_type": "stream",
          "name": "stdout",
          "text": [
            "Sun Jun 25 09:40:18 2023       \n",
            "+-----------------------------------------------------------------------------+\n",
            "| NVIDIA-SMI 525.85.12    Driver Version: 525.85.12    CUDA Version: 12.0     |\n",
            "|-------------------------------+----------------------+----------------------+\n",
            "| GPU  Name        Persistence-M| Bus-Id        Disp.A | Volatile Uncorr. ECC |\n",
            "| Fan  Temp  Perf  Pwr:Usage/Cap|         Memory-Usage | GPU-Util  Compute M. |\n",
            "|                               |                      |               MIG M. |\n",
            "|===============================+======================+======================|\n",
            "|   0  Tesla T4            Off  | 00000000:00:04.0 Off |                    0 |\n",
            "| N/A   37C    P8     9W /  70W |      3MiB / 15360MiB |      0%      Default |\n",
            "|                               |                      |                  N/A |\n",
            "+-------------------------------+----------------------+----------------------+\n",
            "                                                                               \n",
            "+-----------------------------------------------------------------------------+\n",
            "| Processes:                                                                  |\n",
            "|  GPU   GI   CI        PID   Type   Process name                  GPU Memory |\n",
            "|        ID   ID                                                   Usage      |\n",
            "|=============================================================================|\n",
            "|  No running processes found                                                 |\n",
            "+-----------------------------------------------------------------------------+\n"
          ]
        }
      ]
    },
    {
      "cell_type": "markdown",
      "metadata": {
        "id": "6dSxcSzn2KDx"
      },
      "source": [
        "2. Getting PyTorch to run on the GPU\n",
        "\n",
        "Once you've got a GPU ready to access, the next step is getting PyTorch to use for storing data (tensors) and computing on data (performing operations on tensors).\n",
        "\n",
        "To do so, you can use the torch.cuda package.\n",
        "\n",
        "Rather than talk about it, let's try it out.\n",
        "\n",
        "You can test if PyTorch has access to a GPU using torch.cuda.is_available()."
      ]
    },
    {
      "cell_type": "code",
      "execution_count": 69,
      "metadata": {
        "colab": {
          "base_uri": "https://localhost:8080/"
        },
        "id": "kKrRY_xS2KDx",
        "outputId": "819fce3a-1148-49d9-bce7-b2fc13bb3d1c"
      },
      "outputs": [
        {
          "output_type": "execute_result",
          "data": {
            "text/plain": [
              "True"
            ]
          },
          "metadata": {},
          "execution_count": 69
        }
      ],
      "source": [
        "torch.cuda.is_available()  # Cuda is an Nvidia GPU"
      ]
    },
    {
      "cell_type": "markdown",
      "metadata": {
        "id": "m2AInbEO2KDx"
      },
      "source": [
        "If the above outputs True, PyTorch can see and use the GPU, if it outputs False, it can't see the GPU and in that case, you'll have to go back through the installation steps.\n",
        "\n",
        "Now, let's say you wanted to setup your code so it ran on CPU or the GPU if it was available.\n",
        "\n",
        "That way, if you or someone decides to run your code, it'll work regardless of the computing device they're using.\n",
        "\n",
        "Let's create a device variable to store what kind of device is available."
      ]
    },
    {
      "cell_type": "code",
      "execution_count": 70,
      "metadata": {
        "colab": {
          "base_uri": "https://localhost:8080/",
          "height": 35
        },
        "id": "k-qB6zFr2KDy",
        "outputId": "e1a9db71-58c0-49dc-f8cb-cba86ec13092"
      },
      "outputs": [
        {
          "output_type": "execute_result",
          "data": {
            "text/plain": [
              "'cuda'"
            ],
            "application/vnd.google.colaboratory.intrinsic+json": {
              "type": "string"
            }
          },
          "metadata": {},
          "execution_count": 70
        }
      ],
      "source": [
        "# Set device type\n",
        "device='cuda' if torch.cuda.is_available() else \"cpu\"\n",
        "device"
      ]
    },
    {
      "cell_type": "markdown",
      "metadata": {
        "id": "HPdJND4I2KDy"
      },
      "source": [
        "If the above output \"cuda\" it means we can set all of our PyTorch code to use the available CUDA device (a GPU) and if it output \"cpu\", our PyTorch code will stick with the CPU.\n",
        "\n",
        "Note: In PyTorch, it's best practice to write device agnostic code. This means code that'll run on CPU (always available) or GPU (if available).\n",
        "\n",
        "If you want to do faster computing you can use a GPU but if you want to do much faster computing, you can use multiple GPUs.\n",
        "\n",
        "You can count the number of GPUs PyTorch has access to using torch.cuda.device_count()."
      ]
    },
    {
      "cell_type": "code",
      "execution_count": 71,
      "metadata": {
        "colab": {
          "base_uri": "https://localhost:8080/"
        },
        "id": "3elYdEWY2KDy",
        "outputId": "563272dd-aa39-4d1c-e2cb-6ab6e90a837f"
      },
      "outputs": [
        {
          "output_type": "execute_result",
          "data": {
            "text/plain": [
              "1"
            ]
          },
          "metadata": {},
          "execution_count": 71
        }
      ],
      "source": [
        "# Count number of devices\n",
        "torch.cuda.device_count()"
      ]
    },
    {
      "cell_type": "markdown",
      "source": [
        "#3. Putting tensors (and models) on GPU\n",
        "###The Reason  we want our tensors/models on the GPU results in faster computation"
      ],
      "metadata": {
        "id": "Fn7ZKUIn7ouq"
      }
    },
    {
      "cell_type": "code",
      "source": [
        "# Create a Tensor (default on CPU)\n",
        "tensor=torch.tensor([1,2,3])\n",
        "tensor,tensor.device"
      ],
      "metadata": {
        "colab": {
          "base_uri": "https://localhost:8080/"
        },
        "id": "UXrjx8Ce7V7a",
        "outputId": "fe4c0e89-9b3f-4c65-a8bc-0d26c316b0e8"
      },
      "execution_count": 73,
      "outputs": [
        {
          "output_type": "execute_result",
          "data": {
            "text/plain": [
              "(tensor([1, 2, 3]), device(type='cpu'))"
            ]
          },
          "metadata": {},
          "execution_count": 73
        }
      ]
    },
    {
      "cell_type": "code",
      "source": [
        "# MOve Tensor to GPU (if available)\n",
        "tensor_on_gpu=tensor.to(device)\n",
        "tensor_on_gpu"
      ],
      "metadata": {
        "colab": {
          "base_uri": "https://localhost:8080/"
        },
        "id": "_ZslYShY8-_6",
        "outputId": "c7341631-e49c-496e-b2a4-45bac2ac9921"
      },
      "execution_count": 74,
      "outputs": [
        {
          "output_type": "execute_result",
          "data": {
            "text/plain": [
              "tensor([1, 2, 3], device='cuda:0')"
            ]
          },
          "metadata": {},
          "execution_count": 74
        }
      ]
    },
    {
      "cell_type": "markdown",
      "source": [
        "#4.Moving Tensors back to CPU"
      ],
      "metadata": {
        "id": "6ijWEmm--aGk"
      }
    },
    {
      "cell_type": "code",
      "source": [
        "#If the tensor is on GPU,can't transform it to numpy\n",
        "tensor_on_gpu.numpy()"
      ],
      "metadata": {
        "id": "3aurVbyB-qW7",
        "outputId": "ec9fbf54-debd-4723-fa6d-11aa55a86b52",
        "colab": {
          "base_uri": "https://localhost:8080/",
          "height": 183
        }
      },
      "execution_count": 76,
      "outputs": [
        {
          "output_type": "error",
          "ename": "TypeError",
          "evalue": "ignored",
          "traceback": [
            "\u001b[0;31m---------------------------------------------------------------------------\u001b[0m",
            "\u001b[0;31mTypeError\u001b[0m                                 Traceback (most recent call last)",
            "\u001b[0;32m<ipython-input-76-107648abfd62>\u001b[0m in \u001b[0;36m<cell line: 2>\u001b[0;34m()\u001b[0m\n\u001b[1;32m      1\u001b[0m \u001b[0;31m#If the tensor is on GPU,can't transform it to numpy\u001b[0m\u001b[0;34m\u001b[0m\u001b[0;34m\u001b[0m\u001b[0m\n\u001b[0;32m----> 2\u001b[0;31m \u001b[0mtensor_on_gpu\u001b[0m\u001b[0;34m.\u001b[0m\u001b[0mnumpy\u001b[0m\u001b[0;34m(\u001b[0m\u001b[0;34m)\u001b[0m\u001b[0;34m\u001b[0m\u001b[0;34m\u001b[0m\u001b[0m\n\u001b[0m",
            "\u001b[0;31mTypeError\u001b[0m: can't convert cuda:0 device type tensor to numpy. Use Tensor.cpu() to copy the tensor to host memory first."
          ]
        }
      ]
    },
    {
      "cell_type": "code",
      "source": [
        "# To fix the GPU tensor with numpy issue, we can first set it to the CPU\n",
        "tensor_back_on_cpu= tensor_on_gpu.cpu().numpy()\n",
        "tensor_back_on_cpu"
      ],
      "metadata": {
        "id": "7K48uUK4_OJ9",
        "outputId": "1f9dc79c-4466-477e-eb24-752517afa9ec",
        "colab": {
          "base_uri": "https://localhost:8080/"
        }
      },
      "execution_count": 77,
      "outputs": [
        {
          "output_type": "execute_result",
          "data": {
            "text/plain": [
              "array([1, 2, 3])"
            ]
          },
          "metadata": {},
          "execution_count": 77
        }
      ]
    },
    {
      "cell_type": "markdown",
      "source": [
        "# Excercises & Extra-Curriculum\n",
        "###see excercises for this notebook here :  https://www.learnpytorch.io/00_pytorch_fundamentals/#exercises"
      ],
      "metadata": {
        "id": "pCdPG3dVAVCS"
      }
    },
    {
      "cell_type": "markdown",
      "source": [
        "check out here : https://github.com/aynandu/Python-DeepLearning/blob/master/00_PyTorch_Fundamentals_Excercises.ipynb"
      ],
      "metadata": {
        "id": "mLUvHlufBBp3"
      }
    }
  ],
  "metadata": {
    "colab": {
      "collapsed_sections": [
        "5hNlFh54lOp-",
        "PhXepHB-E7d3"
      ],
      "gpuType": "T4",
      "provenance": [],
      "toc_visible": true,
      "include_colab_link": true
    },
    "kernelspec": {
      "display_name": "Python 3",
      "name": "python3"
    },
    "language_info": {
      "codemirror_mode": {
        "name": "ipython",
        "version": 3
      },
      "file_extension": ".py",
      "mimetype": "text/x-python",
      "name": "python",
      "nbconvert_exporter": "python",
      "pygments_lexer": "ipython3",
      "version": "3.11.1"
    },
    "accelerator": "GPU"
  },
  "nbformat": 4,
  "nbformat_minor": 0
}