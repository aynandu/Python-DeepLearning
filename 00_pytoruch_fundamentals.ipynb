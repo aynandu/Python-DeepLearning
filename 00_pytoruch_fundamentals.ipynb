{
  "cells": [
    {
      "attachments": {},
      "cell_type": "markdown",
      "metadata": {
        "colab_type": "text",
        "id": "view-in-github"
      },
      "source": [
        "<a href=\"https://colab.research.google.com/github/aynandu/Python-DeepLearning/blob/master/00_pytoruch_fundamentals.ipynb\" target=\"_parent\"><img src=\"https://colab.research.google.com/assets/colab-badge.svg\" alt=\"Open In Colab\"/></a>"
      ]
    },
    {
      "attachments": {},
      "cell_type": "markdown",
      "metadata": {
        "id": "5hNlFh54lOp-"
      },
      "source": [
        "#**00-Pytourch Fundamentals**\n",
        "\n",
        "Resource Book : https://www.learnpytorch.io/00_pytorch_fundamentals/\n",
        "Questions : https://github.com/mrdbourke/pytorch-deep-learning/discussions"
      ]
    },
    {
      "cell_type": "code",
      "execution_count": 2,
      "metadata": {
        "colab": {
          "base_uri": "https://localhost:8080/"
        },
        "id": "cUHIIgmSjbXu",
        "outputId": "c78a54c4-132c-4609-d7c2-71be379a075c"
      },
      "outputs": [
        {
          "ename": "ModuleNotFoundError",
          "evalue": "No module named 'pandas'",
          "output_type": "error",
          "traceback": [
            "\u001b[1;31m---------------------------------------------------------------------------\u001b[0m",
            "\u001b[1;31mModuleNotFoundError\u001b[0m                       Traceback (most recent call last)",
            "Cell \u001b[1;32mIn[2], line 2\u001b[0m\n\u001b[0;32m      1\u001b[0m \u001b[39mimport\u001b[39;00m \u001b[39mtorch\u001b[39;00m\n\u001b[1;32m----> 2\u001b[0m \u001b[39mimport\u001b[39;00m \u001b[39mpandas\u001b[39;00m \u001b[39mas\u001b[39;00m \u001b[39mpd\u001b[39;00m\n\u001b[0;32m      3\u001b[0m \u001b[39mimport\u001b[39;00m \u001b[39mnumpy\u001b[39;00m \u001b[39mas\u001b[39;00m \u001b[39mnp\u001b[39;00m\n\u001b[0;32m      4\u001b[0m \u001b[39mimport\u001b[39;00m \u001b[39mmatplotlib\u001b[39;00m\u001b[39m.\u001b[39;00m\u001b[39mpyplot\u001b[39;00m \u001b[39mas\u001b[39;00m \u001b[39mplt\u001b[39;00m\n",
            "\u001b[1;31mModuleNotFoundError\u001b[0m: No module named 'pandas'"
          ]
        }
      ],
      "source": [
        "import torch\n",
        "import pandas as pd\n",
        "import numpy as np\n",
        "import matplotlib.pyplot as plt\n",
        "print(torch.__version__)\n"
      ]
    },
    {
      "attachments": {},
      "cell_type": "markdown",
      "metadata": {
        "id": "PhXepHB-E7d3"
      },
      "source": [
        "#Introduction to Tensors\n",
        "\n",
        "###Creating tensors\n",
        "\n",
        "PyTorch Tensors are Created Using 'torch.tensor()' : - https://pytorch.org/docs/stable/tensors.html\n",
        "\n",
        "Tensor : - https://en.wikipedia.org/wiki/Tensor\n",
        "\n",
        "#scalar = 1 ,\n",
        "#Vector =\n",
        "        [\n",
        "          1\n",
        "          2]\n",
        "#matrix =\n",
        "      [\n",
        "          1 2\n",
        "          3 4\n",
        "              ]\n",
        "#tesnor =\n",
        "      [\n",
        "          [1 2] [3 2]\n",
        "          [1 7] [5 4]\n",
        "                    ]"
      ]
    },
    {
      "cell_type": "code",
      "execution_count": null,
      "metadata": {
        "colab": {
          "base_uri": "https://localhost:8080/"
        },
        "id": "DujgWC4-BGfV",
        "outputId": "9de88fe4-9fdf-486b-98d1-ca075f9220e1"
      },
      "outputs": [
        {
          "data": {
            "text/plain": [
              "tensor(7)"
            ]
          },
          "execution_count": 2,
          "metadata": {},
          "output_type": "execute_result"
        }
      ],
      "source": [
        "#scalar\n",
        "scalar = torch.tensor(7)\n",
        "scalar\n"
      ]
    },
    {
      "cell_type": "code",
      "execution_count": null,
      "metadata": {
        "colab": {
          "base_uri": "https://localhost:8080/"
        },
        "id": "tjlOH9OuGjWQ",
        "outputId": "ce4806a6-34d5-4cab-87b1-c779213958c4"
      },
      "outputs": [
        {
          "data": {
            "text/plain": [
              "0"
            ]
          },
          "execution_count": 3,
          "metadata": {},
          "output_type": "execute_result"
        }
      ],
      "source": [
        "#ndimention - scalar\n",
        "scalar.ndim"
      ]
    },
    {
      "cell_type": "code",
      "execution_count": null,
      "metadata": {
        "colab": {
          "base_uri": "https://localhost:8080/"
        },
        "id": "EAQQ6CjpcDE-",
        "outputId": "f859fcde-23cd-4452-b820-403fa0405c1f"
      },
      "outputs": [
        {
          "data": {
            "text/plain": [
              "torch.Size([])"
            ]
          },
          "execution_count": 4,
          "metadata": {},
          "output_type": "execute_result"
        }
      ],
      "source": [
        "#Size\n",
        "scalar.shape"
      ]
    },
    {
      "cell_type": "code",
      "execution_count": null,
      "metadata": {
        "colab": {
          "base_uri": "https://localhost:8080/"
        },
        "id": "fDFHEUFrGooz",
        "outputId": "6b7af4cb-197d-48df-f96e-d44726863c78"
      },
      "outputs": [
        {
          "data": {
            "text/plain": [
              "7"
            ]
          },
          "execution_count": 5,
          "metadata": {},
          "output_type": "execute_result"
        }
      ],
      "source": [
        "#Get Tensor Back as Python int\n",
        "scalar.item()"
      ]
    },
    {
      "cell_type": "code",
      "execution_count": null,
      "metadata": {
        "colab": {
          "base_uri": "https://localhost:8080/"
        },
        "id": "gbiCoe5xY2qj",
        "outputId": "f1ef9f95-398b-4401-d8e7-1858773c86c8"
      },
      "outputs": [
        {
          "data": {
            "text/plain": [
              "tensor([7, 7])"
            ]
          },
          "execution_count": 6,
          "metadata": {},
          "output_type": "execute_result"
        }
      ],
      "source": [
        "#vector\n",
        "vector=torch.tensor([7,7])\n",
        "vector"
      ]
    },
    {
      "cell_type": "code",
      "execution_count": null,
      "metadata": {
        "colab": {
          "base_uri": "https://localhost:8080/"
        },
        "id": "rX3fH0ZPbip9",
        "outputId": "8638dbe7-b8d5-4b81-e1df-91a4ad3c0050"
      },
      "outputs": [
        {
          "data": {
            "text/plain": [
              "1"
            ]
          },
          "execution_count": 7,
          "metadata": {},
          "output_type": "execute_result"
        }
      ],
      "source": [
        "#ndimention - Vector\n",
        "vector.ndim"
      ]
    },
    {
      "cell_type": "code",
      "execution_count": null,
      "metadata": {
        "colab": {
          "base_uri": "https://localhost:8080/"
        },
        "id": "pcSuf1Cmbz0-",
        "outputId": "b1ee395e-3ba2-42ff-da01-7abea459e47c"
      },
      "outputs": [
        {
          "data": {
            "text/plain": [
              "torch.Size([2])"
            ]
          },
          "execution_count": 8,
          "metadata": {},
          "output_type": "execute_result"
        }
      ],
      "source": [
        "#size\n",
        "vector.shape"
      ]
    },
    {
      "cell_type": "code",
      "execution_count": null,
      "metadata": {
        "colab": {
          "base_uri": "https://localhost:8080/"
        },
        "id": "ouWxKokFclTX",
        "outputId": "03fb0ce6-c7f9-444b-c246-15914eba6ece"
      },
      "outputs": [
        {
          "data": {
            "text/plain": [
              "tensor([[ 7,  8],\n",
              "        [ 9, 10],\n",
              "        [11, 12]])"
            ]
          },
          "execution_count": 9,
          "metadata": {},
          "output_type": "execute_result"
        }
      ],
      "source": [
        "#Matrix\n",
        "MATRIX =torch.tensor([[7,8],\n",
        "                      [9,10],\n",
        "                      [11,12]])\n",
        "MATRIX"
      ]
    },
    {
      "cell_type": "code",
      "execution_count": null,
      "metadata": {
        "colab": {
          "base_uri": "https://localhost:8080/"
        },
        "id": "WMASLKM5dCDo",
        "outputId": "ee3b74b3-a91c-4604-ebea-f5e028c5cc6b"
      },
      "outputs": [
        {
          "data": {
            "text/plain": [
              "2"
            ]
          },
          "execution_count": 10,
          "metadata": {},
          "output_type": "execute_result"
        }
      ],
      "source": [
        "#ndimentions\n",
        "MATRIX.ndim\n"
      ]
    },
    {
      "cell_type": "code",
      "execution_count": null,
      "metadata": {
        "colab": {
          "base_uri": "https://localhost:8080/"
        },
        "id": "NsMVPg1LmUWB",
        "outputId": "e8460aa9-4fc2-4cdd-f070-c437a41c0b1b"
      },
      "outputs": [
        {
          "data": {
            "text/plain": [
              "tensor([7, 8])"
            ]
          },
          "execution_count": 11,
          "metadata": {},
          "output_type": "execute_result"
        }
      ],
      "source": [
        "MATRIX[0]"
      ]
    },
    {
      "cell_type": "code",
      "execution_count": null,
      "metadata": {
        "colab": {
          "base_uri": "https://localhost:8080/"
        },
        "id": "3MAa9AhDdJZh",
        "outputId": "7e9b5ff5-34a1-4c0d-938e-fe23b3bcfdbc"
      },
      "outputs": [
        {
          "data": {
            "text/plain": [
              "torch.Size([3, 2])"
            ]
          },
          "execution_count": 12,
          "metadata": {},
          "output_type": "execute_result"
        }
      ],
      "source": [
        "#Size\n",
        "MATRIX.shape"
      ]
    },
    {
      "cell_type": "code",
      "execution_count": null,
      "metadata": {
        "colab": {
          "base_uri": "https://localhost:8080/"
        },
        "id": "3pm1GqI-mvk1",
        "outputId": "7d04857f-7b64-4cb6-fba3-664f3864127c"
      },
      "outputs": [
        {
          "data": {
            "text/plain": [
              "tensor([[[1, 2, 3],\n",
              "         [3, 6, 9],\n",
              "         [2, 4, 5],\n",
              "         [1, 3, 8]]])"
            ]
          },
          "execution_count": 13,
          "metadata": {},
          "output_type": "execute_result"
        }
      ],
      "source": [
        "#Tensor\n",
        "TENSOR = torch.tensor([[[1,2,3],\n",
        "                        [3,6,9],\n",
        "                        [2,4,5],\n",
        "                        [1,3,8]]])\n",
        "TENSOR\n",
        "#pink parent has 1 child \"blue\"; blue parent has 4 (column) child \"yellow\";each yellow having 3 (row) child values. it becomes shape of (1,4,3)"
      ]
    },
    {
      "cell_type": "code",
      "execution_count": null,
      "metadata": {
        "colab": {
          "base_uri": "https://localhost:8080/"
        },
        "id": "FuL2nEKFn9by",
        "outputId": "a8c288d5-a360-497a-e8d2-b7c2f57ebac7"
      },
      "outputs": [
        {
          "data": {
            "text/plain": [
              "3"
            ]
          },
          "execution_count": 14,
          "metadata": {},
          "output_type": "execute_result"
        }
      ],
      "source": [
        "#ndimenstion\n",
        "TENSOR.ndim"
      ]
    },
    {
      "cell_type": "code",
      "execution_count": null,
      "metadata": {
        "colab": {
          "base_uri": "https://localhost:8080/"
        },
        "id": "zIRYUwejoT0b",
        "outputId": "0be43e40-49fd-464a-85b5-ec681f7462c2"
      },
      "outputs": [
        {
          "data": {
            "text/plain": [
              "torch.Size([1, 4, 3])"
            ]
          },
          "execution_count": 15,
          "metadata": {},
          "output_type": "execute_result"
        }
      ],
      "source": [
        "#Size\n",
        "TENSOR.shape"
      ]
    },
    {
      "attachments": {},
      "cell_type": "markdown",
      "metadata": {
        "id": "MThTtHJGwWxs"
      },
      "source": [
        "#**Random Tensors**\n",
        "\n",
        "###*Why random tensors?*\n",
        "#####Random tensors are important because the way many neural networks learn is that they start with tensors full of random numbers and then adjust those numbers better represent the data.\n",
        "`Start with random numbers -> look at data -> update random numbers -> look at data -> update random numbers`"
      ]
    },
    {
      "cell_type": "code",
      "execution_count": null,
      "metadata": {
        "colab": {
          "base_uri": "https://localhost:8080/"
        },
        "id": "RvSph3jpwe0Z",
        "outputId": "97f6292f-462f-4a9e-deb9-96f60e5f7056"
      },
      "outputs": [
        {
          "data": {
            "text/plain": [
              "tensor([[[0.9029, 0.4211, 0.6514, 0.1314],\n",
              "         [0.8016, 0.1496, 0.3662, 0.5450],\n",
              "         [0.4964, 0.6579, 0.1088, 0.0827]],\n",
              "\n",
              "        [[0.8435, 0.5802, 0.1586, 0.4948],\n",
              "         [0.1714, 0.9427, 0.7082, 0.5880],\n",
              "         [0.1312, 0.2080, 0.1911, 0.0412]]])"
            ]
          },
          "execution_count": 24,
          "metadata": {},
          "output_type": "execute_result"
        }
      ],
      "source": [
        "#Create A Random Matric of size\n",
        "random_tensor=torch.rand(2,3,4)\n",
        "random_tensor"
      ]
    },
    {
      "cell_type": "code",
      "execution_count": null,
      "metadata": {
        "colab": {
          "base_uri": "https://localhost:8080/"
        },
        "id": "X-7v5cyA1q2x",
        "outputId": "a26753fa-deba-4253-ad19-a4ea8e49927e"
      },
      "outputs": [
        {
          "data": {
            "text/plain": [
              "3"
            ]
          },
          "execution_count": 17,
          "metadata": {},
          "output_type": "execute_result"
        }
      ],
      "source": [
        "random_tensor.ndim"
      ]
    },
    {
      "cell_type": "code",
      "execution_count": null,
      "metadata": {
        "colab": {
          "base_uri": "https://localhost:8080/"
        },
        "id": "o8Eqp9sNDjda",
        "outputId": "2083cc6b-27e6-4c49-c22d-4e0024cc24cf"
      },
      "outputs": [
        {
          "data": {
            "text/plain": [
              "(torch.Size([224, 224, 3]), 3)"
            ]
          },
          "execution_count": 18,
          "metadata": {},
          "output_type": "execute_result"
        }
      ],
      "source": [
        "#Create a random tensor with  similar shape to an image tensor\n",
        "rndm_image_size_tensor = torch.rand(size=(224,224,3)) #height ,width , color Channel (R,G,B)\n",
        "rndm_image_size_tensor.shape ,rndm_image_size_tensor.ndim"
      ]
    },
    {
      "attachments": {},
      "cell_type": "markdown",
      "metadata": {
        "id": "KZGB4O_T2GwF"
      },
      "source": [
        "#Zeros and Ones"
      ]
    },
    {
      "cell_type": "code",
      "execution_count": null,
      "metadata": {
        "colab": {
          "base_uri": "https://localhost:8080/"
        },
        "id": "X02otN6A2KUZ",
        "outputId": "775bb93a-c000-48be-d198-3d15d0118c86"
      },
      "outputs": [
        {
          "data": {
            "text/plain": [
              "tensor([[0., 0., 0., 0.],\n",
              "        [0., 0., 0., 0.],\n",
              "        [0., 0., 0., 0.]])"
            ]
          },
          "execution_count": 19,
          "metadata": {},
          "output_type": "execute_result"
        }
      ],
      "source": [
        "#Create a tensor  of all Zeros\n",
        "zeros= torch.zeros(size=(3,4))\n",
        "zeros"
      ]
    },
    {
      "cell_type": "code",
      "execution_count": null,
      "metadata": {
        "colab": {
          "base_uri": "https://localhost:8080/"
        },
        "id": "VhsOiq4x2-93",
        "outputId": "a6676589-ff88-4d2a-f4b7-f66b4bb6843f"
      },
      "outputs": [
        {
          "data": {
            "text/plain": [
              "tensor([[[0., 0., 0., 0.],\n",
              "         [0., 0., 0., 0.],\n",
              "         [0., 0., 0., 0.]],\n",
              "\n",
              "        [[0., 0., 0., 0.],\n",
              "         [0., 0., 0., 0.],\n",
              "         [0., 0., 0., 0.]]])"
            ]
          },
          "execution_count": 25,
          "metadata": {},
          "output_type": "execute_result"
        }
      ],
      "source": [
        "zeros*random_tensor"
      ]
    },
    {
      "cell_type": "code",
      "execution_count": null,
      "metadata": {
        "colab": {
          "base_uri": "https://localhost:8080/"
        },
        "id": "1rPAbbju4Sb9",
        "outputId": "188175d7-362a-4d77-80a2-10bf3bc45a1a"
      },
      "outputs": [
        {
          "name": "stdout",
          "output_type": "stream",
          "text": [
            "tensor([[1., 1., 1., 1.],\n",
            "        [1., 1., 1., 1.],\n",
            "        [1., 1., 1., 1.]])\n",
            "torch.float32\n"
          ]
        }
      ],
      "source": [
        "#Create a tensor of all ones\n",
        "ones = torch.ones(size=(3,4))\n",
        "print(ones)\n",
        "print(random_tensor.dtype)"
      ]
    },
    {
      "attachments": {},
      "cell_type": "markdown",
      "metadata": {},
      "source": [
        "Create a range of tensor and tensors - like"
      ]
    },
    {
      "cell_type": "code",
      "execution_count": 7,
      "metadata": {},
      "outputs": [
        {
          "data": {
            "text/plain": [
              "tensor([  0,  50, 100, 150, 200, 250, 300, 350, 400, 450, 500, 550, 600, 650,\n",
              "        700, 750, 800, 850, 900, 950])"
            ]
          },
          "execution_count": 7,
          "metadata": {},
          "output_type": "execute_result"
        }
      ],
      "source": [
        "#use torch.arange()\n",
        "#torch.range() is also having same function but it will be removed in upcoming updates use torch.arange() instead of that.\n",
        "range_Num=torch.arange(start=0,end=1000,step=50) # no step means default step is 1\n",
        "range_Num"
      ]
    },
    {
      "cell_type": "code",
      "execution_count": 8,
      "metadata": {},
      "outputs": [
        {
          "data": {
            "text/plain": [
              "tensor([0, 0, 0, 0, 0, 0, 0, 0, 0, 0, 0, 0, 0, 0, 0, 0, 0, 0, 0, 0])"
            ]
          },
          "execution_count": 8,
          "metadata": {},
          "output_type": "execute_result"
        }
      ],
      "source": [
        "# Creating a tensors like \n",
        "ten_zeros=torch.zeros_like(input=range_Num)\n",
        "ten_zeros"
      ]
    },
    {
      "attachments": {},
      "cell_type": "markdown",
      "metadata": {},
      "source": [
        "Tensor Data Types\n",
        "\n",
        "`Note : Tensor data type is the one of the 3 big errors you'll run into with Pytorch & Deep Learning`\n",
        "1. Tensors not right datatype\n",
        "2. Tensors not right shape\n",
        "3. Tensors not on the right device\n",
        "\n",
        "Precesion in Computing : https://en.wikipedia.org/wiki/Precision_(computer_science)"
      ]
    },
    {
      "cell_type": "code",
      "execution_count": 11,
      "metadata": {},
      "outputs": [
        {
          "data": {
            "text/plain": [
              "tensor([3., 6., 9.])"
            ]
          },
          "execution_count": 11,
          "metadata": {},
          "output_type": "execute_result"
        }
      ],
      "source": [
        "#Float 32 tensor\n",
        "float_32_tensor = torch.tensor([3.0,6.0,9.0],\n",
        "                               dtype=torch.float32,# what datatype is the tensro (eg: float16,float32,float64)\n",
        "                               device=None, #cpu,gpu,cuda\n",
        "                               requires_grad=False)\n",
        "float_32_tensor"
      ]
    },
    {
      "cell_type": "code",
      "execution_count": 12,
      "metadata": {},
      "outputs": [
        {
          "data": {
            "text/plain": [
              "torch.float32"
            ]
          },
          "execution_count": 12,
          "metadata": {},
          "output_type": "execute_result"
        }
      ],
      "source": [
        "float_32_tensor.dtype"
      ]
    },
    {
      "cell_type": "code",
      "execution_count": 14,
      "metadata": {},
      "outputs": [
        {
          "data": {
            "text/plain": [
              "tensor([3., 6., 9.], dtype=torch.float16)"
            ]
          },
          "execution_count": 14,
          "metadata": {},
          "output_type": "execute_result"
        }
      ],
      "source": [
        "float_16_tensor = float_32_tensor.type(torch.float16)\n",
        "float_16_tensor"
      ]
    },
    {
      "cell_type": "code",
      "execution_count": 17,
      "metadata": {},
      "outputs": [
        {
          "name": "stdout",
          "output_type": "stream",
          "text": [
            "tensor([3, 6, 9], dtype=torch.int32)\n",
            "value is tensor([ 9., 36., 81.]) data type is torch.float32\n"
          ]
        }
      ],
      "source": [
        "int_32_tensor=torch.tensor([3,6,9],dtype=torch.int32)\n",
        "print(int_32_tensor)\n",
        "value= float_32_tensor * int_32_tensor\n",
        "print (f\"value is {value} data type is {value.dtype}\")"
      ]
    },
    {
      "attachments": {},
      "cell_type": "markdown",
      "metadata": {},
      "source": [
        "Get information from tensors (tensor attribute)\n",
        "\n",
        "1. tensor not right datatype -  to  get datatype from a tensor, can use  `tensor.dtype`\n",
        "2. tensor not right shape -  to  get shape from a tensor, can use  `tensor.shape`\n",
        "1. tensor not on the right device -  to get device  from a tensor, can use  `tensor.device`"
      ]
    },
    {
      "cell_type": "code",
      "execution_count": 18,
      "metadata": {},
      "outputs": [
        {
          "data": {
            "text/plain": [
              "tensor([[0.4146, 0.8710, 0.0081, 0.7010],\n",
              "        [0.1685, 0.8250, 0.0849, 0.5011],\n",
              "        [0.8872, 0.0471, 0.5013, 0.4929]])"
            ]
          },
          "execution_count": 18,
          "metadata": {},
          "output_type": "execute_result"
        }
      ],
      "source": [
        "# Create a random tensor\n",
        "some_tensor = torch.rand(3,4)\n",
        "some_tensor"
      ]
    },
    {
      "cell_type": "code",
      "execution_count": 21,
      "metadata": {},
      "outputs": [
        {
          "name": "stdout",
          "output_type": "stream",
          "text": [
            "Data Type : torch.float32 | Shape : torch.Size([3, 4]) | Size : <built-in method size of Tensor object at 0x0000023C74F3A8A0> |  Device : cpu\n"
          ]
        }
      ],
      "source": [
        "#Find out details about Some Tensor\n",
        "print(f\"Data Type : {some_tensor.dtype} | Shape : {some_tensor.shape} | Size : {some_tensor.size} |  Device : {some_tensor.device}\")\n",
        "# NB: some_tensor.size is a fun not attribute"
      ]
    },
    {
      "attachments": {},
      "cell_type": "markdown",
      "metadata": {},
      "source": [
        "Maaipulating Tensor (tensor operations)\n",
        "\n",
        "Tensor operations include : \n",
        "* Addition\n",
        "* Subtraction\n",
        "* Multiplication (Element-wise)\n",
        "* Division\n",
        "* Matrix multplication\n",
        "\n"
      ]
    },
    {
      "cell_type": "code",
      "execution_count": 30,
      "metadata": {},
      "outputs": [
        {
          "name": "stdout",
          "output_type": "stream",
          "text": [
            "tensor([ 2,  4, 10])\n",
            "\n",
            " Addition :  tensor([12, 14, 20])\n",
            "\n",
            " Multiply :  tensor([ 20,  40, 100])\n",
            "\n",
            " Subtract :  tensor([-8, -6,  0])\n"
          ]
        }
      ],
      "source": [
        "# Create a Tensor\n",
        "tensor_manip = torch.tensor([2,4,10])\n",
        "print(tensor_manip)\n",
        "# Addition\n",
        "print(\"\\n Addition : \" , tensor_manip+10)\n",
        "# Multiply\n",
        "print(\"\\n Multiply : \" , tensor_manip*10)\n",
        "#Subtract\n",
        "print(\"\\n Subtract : \" , tensor_manip-10)"
      ]
    },
    {
      "cell_type": "code",
      "execution_count": 33,
      "metadata": {},
      "outputs": [
        {
          "name": "stdout",
          "output_type": "stream",
          "text": [
            "\n",
            " Addition :  tensor([12, 14, 20])\n",
            "\n",
            " Subtract :  tensor([-8, -6,  0])\n",
            "\n",
            " Multiply :  tensor([ 20,  40, 100])\n"
          ]
        }
      ],
      "source": [
        "# Try out with PyTorch in-built function\n",
        "# Addition\n",
        "print(\"\\n Addition : \" , torch.add(tensor_manip,10))\n",
        "# Subtract\n",
        "print(\"\\n Subtract : \" , torch.sub(tensor_manip,10))\n",
        "# Multiply\n",
        "print(\"\\n Multiply : \" ,  torch.mul(tensor_manip,10))"
      ]
    },
    {
      "attachments": {},
      "cell_type": "markdown",
      "metadata": {},
      "source": [
        "Matrix Multiplication\n",
        "\n",
        "Two main ways of performing Multiplication in neural networks and deep learning\n",
        "\n",
        "1. Element - wise multiplication\n",
        "2. Matrix multiplication (dot product)\n",
        "\n",
        "More Infromation on Multiplying Matrices : https://www.mathsisfun.com/algebra/matrix-multiplying.html"
      ]
    },
    {
      "cell_type": "code",
      "execution_count": 36,
      "metadata": {},
      "outputs": [
        {
          "name": "stdout",
          "output_type": "stream",
          "text": [
            "tensor([1, 2, 3]) * tensor([1, 2, 3])\n",
            "Equals =  tensor([1, 4, 9])\n"
          ]
        }
      ],
      "source": [
        "# Element wise multiplication\n",
        "tensor = torch.tensor([1,2,3])\n",
        "print(tensor, \"*\" , tensor)\n",
        "print(\"Equals = \",tensor*tensor)"
      ]
    }
  ],
  "metadata": {
    "colab": {
      "authorship_tag": "ABX9TyO9LH5AvzkL8pSCy/IePt8B",
      "collapsed_sections": [
        "5hNlFh54lOp-",
        "PhXepHB-E7d3"
      ],
      "gpuType": "T4",
      "include_colab_link": true,
      "provenance": []
    },
    "kernelspec": {
      "display_name": "Python 3",
      "name": "python3"
    },
    "language_info": {
      "codemirror_mode": {
        "name": "ipython",
        "version": 3
      },
      "file_extension": ".py",
      "mimetype": "text/x-python",
      "name": "python",
      "nbconvert_exporter": "python",
      "pygments_lexer": "ipython3",
      "version": "3.11.1"
    }
  },
  "nbformat": 4,
  "nbformat_minor": 0
}
