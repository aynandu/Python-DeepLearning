{
  "nbformat": 4,
  "nbformat_minor": 0,
  "metadata": {
    "colab": {
      "provenance": [],
      "gpuType": "T4",
      "collapsed_sections": [
        "5hNlFh54lOp-",
        "PhXepHB-E7d3"
      ],
      "authorship_tag": "ABX9TyO9LH5AvzkL8pSCy/IePt8B",
      "include_colab_link": true
    },
    "kernelspec": {
      "name": "python3",
      "display_name": "Python 3"
    },
    "language_info": {
      "name": "python"
    }
  },
  "cells": [
    {
      "cell_type": "markdown",
      "metadata": {
        "id": "view-in-github",
        "colab_type": "text"
      },
      "source": [
        "<a href=\"https://colab.research.google.com/github/aynandu/Python-DeepLearning/blob/master/00_pytoruch_fundamentals.ipynb\" target=\"_parent\"><img src=\"https://colab.research.google.com/assets/colab-badge.svg\" alt=\"Open In Colab\"/></a>"
      ]
    },
    {
      "cell_type": "markdown",
      "source": [
        "#**00-Pytourch Fundamentals**\n",
        "\n",
        "Resource Book : https://www.learnpytorch.io/00_pytorch_fundamentals/\n",
        "Questions : https://github.com/mrdbourke/pytorch-deep-learning/discussions"
      ],
      "metadata": {
        "id": "5hNlFh54lOp-"
      }
    },
    {
      "cell_type": "code",
      "source": [
        "import torch\n",
        "import pandas as pd\n",
        "import numpy as np\n",
        "import matplotlib.pyplot as plt\n",
        "print(torch.__version__)\n"
      ],
      "metadata": {
        "colab": {
          "base_uri": "https://localhost:8080/"
        },
        "id": "cUHIIgmSjbXu",
        "outputId": "c78a54c4-132c-4609-d7c2-71be379a075c"
      },
      "execution_count": 1,
      "outputs": [
        {
          "output_type": "stream",
          "name": "stdout",
          "text": [
            "2.0.1+cu118\n"
          ]
        }
      ]
    },
    {
      "cell_type": "markdown",
      "source": [
        "#Introduction to Tensors\n",
        "\n",
        "###Creating tensors\n",
        "\n",
        "PyTorch Tensors are Created Using 'torch.tensor()' : - https://pytorch.org/docs/stable/tensors.html\n",
        "\n",
        "Tensor : - https://en.wikipedia.org/wiki/Tensor\n",
        "\n",
        "#scalar = 1 ,\n",
        "#Vector =\n",
        "        [\n",
        "          1\n",
        "          2]\n",
        "#matrix =\n",
        "      [\n",
        "          1 2\n",
        "          3 4\n",
        "              ]\n",
        "#tesnor =\n",
        "      [\n",
        "          [1 2] [3 2]\n",
        "          [1 7] [5 4]\n",
        "                    ]"
      ],
      "metadata": {
        "id": "PhXepHB-E7d3"
      }
    },
    {
      "cell_type": "code",
      "source": [
        "#scalar\n",
        "scalar = torch.tensor(7)\n",
        "scalar\n"
      ],
      "metadata": {
        "id": "DujgWC4-BGfV",
        "colab": {
          "base_uri": "https://localhost:8080/"
        },
        "outputId": "9de88fe4-9fdf-486b-98d1-ca075f9220e1"
      },
      "execution_count": 2,
      "outputs": [
        {
          "output_type": "execute_result",
          "data": {
            "text/plain": [
              "tensor(7)"
            ]
          },
          "metadata": {},
          "execution_count": 2
        }
      ]
    },
    {
      "cell_type": "code",
      "source": [
        "#ndimention - scalar\n",
        "scalar.ndim"
      ],
      "metadata": {
        "colab": {
          "base_uri": "https://localhost:8080/"
        },
        "id": "tjlOH9OuGjWQ",
        "outputId": "ce4806a6-34d5-4cab-87b1-c779213958c4"
      },
      "execution_count": 3,
      "outputs": [
        {
          "output_type": "execute_result",
          "data": {
            "text/plain": [
              "0"
            ]
          },
          "metadata": {},
          "execution_count": 3
        }
      ]
    },
    {
      "cell_type": "code",
      "source": [
        "#Size\n",
        "scalar.shape"
      ],
      "metadata": {
        "colab": {
          "base_uri": "https://localhost:8080/"
        },
        "id": "EAQQ6CjpcDE-",
        "outputId": "f859fcde-23cd-4452-b820-403fa0405c1f"
      },
      "execution_count": 4,
      "outputs": [
        {
          "output_type": "execute_result",
          "data": {
            "text/plain": [
              "torch.Size([])"
            ]
          },
          "metadata": {},
          "execution_count": 4
        }
      ]
    },
    {
      "cell_type": "code",
      "source": [
        "#Get Tensor Back as Python int\n",
        "scalar.item()"
      ],
      "metadata": {
        "colab": {
          "base_uri": "https://localhost:8080/"
        },
        "id": "fDFHEUFrGooz",
        "outputId": "6b7af4cb-197d-48df-f96e-d44726863c78"
      },
      "execution_count": 5,
      "outputs": [
        {
          "output_type": "execute_result",
          "data": {
            "text/plain": [
              "7"
            ]
          },
          "metadata": {},
          "execution_count": 5
        }
      ]
    },
    {
      "cell_type": "code",
      "source": [
        "#vector\n",
        "vector=torch.tensor([7,7])\n",
        "vector"
      ],
      "metadata": {
        "colab": {
          "base_uri": "https://localhost:8080/"
        },
        "id": "gbiCoe5xY2qj",
        "outputId": "f1ef9f95-398b-4401-d8e7-1858773c86c8"
      },
      "execution_count": 6,
      "outputs": [
        {
          "output_type": "execute_result",
          "data": {
            "text/plain": [
              "tensor([7, 7])"
            ]
          },
          "metadata": {},
          "execution_count": 6
        }
      ]
    },
    {
      "cell_type": "code",
      "source": [
        "#ndimention - Vector\n",
        "vector.ndim"
      ],
      "metadata": {
        "colab": {
          "base_uri": "https://localhost:8080/"
        },
        "id": "rX3fH0ZPbip9",
        "outputId": "8638dbe7-b8d5-4b81-e1df-91a4ad3c0050"
      },
      "execution_count": 7,
      "outputs": [
        {
          "output_type": "execute_result",
          "data": {
            "text/plain": [
              "1"
            ]
          },
          "metadata": {},
          "execution_count": 7
        }
      ]
    },
    {
      "cell_type": "code",
      "source": [
        "#size\n",
        "vector.shape"
      ],
      "metadata": {
        "colab": {
          "base_uri": "https://localhost:8080/"
        },
        "id": "pcSuf1Cmbz0-",
        "outputId": "b1ee395e-3ba2-42ff-da01-7abea459e47c"
      },
      "execution_count": 8,
      "outputs": [
        {
          "output_type": "execute_result",
          "data": {
            "text/plain": [
              "torch.Size([2])"
            ]
          },
          "metadata": {},
          "execution_count": 8
        }
      ]
    },
    {
      "cell_type": "code",
      "source": [
        "#Matrix\n",
        "MATRIX =torch.tensor([[7,8],\n",
        "                      [9,10],\n",
        "                      [11,12]])\n",
        "MATRIX"
      ],
      "metadata": {
        "colab": {
          "base_uri": "https://localhost:8080/"
        },
        "id": "ouWxKokFclTX",
        "outputId": "03fb0ce6-c7f9-444b-c246-15914eba6ece"
      },
      "execution_count": 9,
      "outputs": [
        {
          "output_type": "execute_result",
          "data": {
            "text/plain": [
              "tensor([[ 7,  8],\n",
              "        [ 9, 10],\n",
              "        [11, 12]])"
            ]
          },
          "metadata": {},
          "execution_count": 9
        }
      ]
    },
    {
      "cell_type": "code",
      "source": [
        "#ndimentions\n",
        "MATRIX.ndim\n"
      ],
      "metadata": {
        "colab": {
          "base_uri": "https://localhost:8080/"
        },
        "id": "WMASLKM5dCDo",
        "outputId": "ee3b74b3-a91c-4604-ebea-f5e028c5cc6b"
      },
      "execution_count": 10,
      "outputs": [
        {
          "output_type": "execute_result",
          "data": {
            "text/plain": [
              "2"
            ]
          },
          "metadata": {},
          "execution_count": 10
        }
      ]
    },
    {
      "cell_type": "code",
      "source": [
        "MATRIX[0]"
      ],
      "metadata": {
        "colab": {
          "base_uri": "https://localhost:8080/"
        },
        "id": "NsMVPg1LmUWB",
        "outputId": "e8460aa9-4fc2-4cdd-f070-c437a41c0b1b"
      },
      "execution_count": 11,
      "outputs": [
        {
          "output_type": "execute_result",
          "data": {
            "text/plain": [
              "tensor([7, 8])"
            ]
          },
          "metadata": {},
          "execution_count": 11
        }
      ]
    },
    {
      "cell_type": "code",
      "source": [
        "#Size\n",
        "MATRIX.shape"
      ],
      "metadata": {
        "colab": {
          "base_uri": "https://localhost:8080/"
        },
        "id": "3MAa9AhDdJZh",
        "outputId": "7e9b5ff5-34a1-4c0d-938e-fe23b3bcfdbc"
      },
      "execution_count": 12,
      "outputs": [
        {
          "output_type": "execute_result",
          "data": {
            "text/plain": [
              "torch.Size([3, 2])"
            ]
          },
          "metadata": {},
          "execution_count": 12
        }
      ]
    },
    {
      "cell_type": "code",
      "source": [
        "#Tensor\n",
        "TENSOR = torch.tensor([[[1,2,3],\n",
        "                        [3,6,9],\n",
        "                        [2,4,5],\n",
        "                        [1,3,8]]])\n",
        "TENSOR\n",
        "#pink parent has 1 child \"blue\"; blue parent has 4 (column) child \"yellow\";each yellow having 3 (row) child values. it becomes shape of (1,4,3)"
      ],
      "metadata": {
        "colab": {
          "base_uri": "https://localhost:8080/"
        },
        "id": "3pm1GqI-mvk1",
        "outputId": "7d04857f-7b64-4cb6-fba3-664f3864127c"
      },
      "execution_count": 13,
      "outputs": [
        {
          "output_type": "execute_result",
          "data": {
            "text/plain": [
              "tensor([[[1, 2, 3],\n",
              "         [3, 6, 9],\n",
              "         [2, 4, 5],\n",
              "         [1, 3, 8]]])"
            ]
          },
          "metadata": {},
          "execution_count": 13
        }
      ]
    },
    {
      "cell_type": "code",
      "source": [
        "#ndimenstion\n",
        "TENSOR.ndim"
      ],
      "metadata": {
        "colab": {
          "base_uri": "https://localhost:8080/"
        },
        "id": "FuL2nEKFn9by",
        "outputId": "a8c288d5-a360-497a-e8d2-b7c2f57ebac7"
      },
      "execution_count": 14,
      "outputs": [
        {
          "output_type": "execute_result",
          "data": {
            "text/plain": [
              "3"
            ]
          },
          "metadata": {},
          "execution_count": 14
        }
      ]
    },
    {
      "cell_type": "code",
      "source": [
        "#Size\n",
        "TENSOR.shape"
      ],
      "metadata": {
        "colab": {
          "base_uri": "https://localhost:8080/"
        },
        "id": "zIRYUwejoT0b",
        "outputId": "0be43e40-49fd-464a-85b5-ec681f7462c2"
      },
      "execution_count": 15,
      "outputs": [
        {
          "output_type": "execute_result",
          "data": {
            "text/plain": [
              "torch.Size([1, 4, 3])"
            ]
          },
          "metadata": {},
          "execution_count": 15
        }
      ]
    },
    {
      "cell_type": "markdown",
      "source": [
        "#**Random Tensors**\n",
        "\n",
        "###*Why random tensors?*\n",
        "#####Random tensors are important because the way many neural networks learn is that they start with tensors full of random numbers and then adjust those numbers better represent the data.\n",
        "`Start with random numbers -> look at data -> update random numbers -> look at data -> update random numbers`"
      ],
      "metadata": {
        "id": "MThTtHJGwWxs"
      }
    },
    {
      "cell_type": "code",
      "source": [
        "#Create A Random Matric of size\n",
        "random_tensor=torch.rand(2,3,4)\n",
        "random_tensor"
      ],
      "metadata": {
        "colab": {
          "base_uri": "https://localhost:8080/"
        },
        "id": "RvSph3jpwe0Z",
        "outputId": "97f6292f-462f-4a9e-deb9-96f60e5f7056"
      },
      "execution_count": 24,
      "outputs": [
        {
          "output_type": "execute_result",
          "data": {
            "text/plain": [
              "tensor([[[0.9029, 0.4211, 0.6514, 0.1314],\n",
              "         [0.8016, 0.1496, 0.3662, 0.5450],\n",
              "         [0.4964, 0.6579, 0.1088, 0.0827]],\n",
              "\n",
              "        [[0.8435, 0.5802, 0.1586, 0.4948],\n",
              "         [0.1714, 0.9427, 0.7082, 0.5880],\n",
              "         [0.1312, 0.2080, 0.1911, 0.0412]]])"
            ]
          },
          "metadata": {},
          "execution_count": 24
        }
      ]
    },
    {
      "cell_type": "code",
      "source": [
        "random_tensor.ndim"
      ],
      "metadata": {
        "colab": {
          "base_uri": "https://localhost:8080/"
        },
        "id": "X-7v5cyA1q2x",
        "outputId": "a26753fa-deba-4253-ad19-a4ea8e49927e"
      },
      "execution_count": 17,
      "outputs": [
        {
          "output_type": "execute_result",
          "data": {
            "text/plain": [
              "3"
            ]
          },
          "metadata": {},
          "execution_count": 17
        }
      ]
    },
    {
      "cell_type": "code",
      "source": [
        "#Create a random tensor with  similar shape to an image tensor\n",
        "rndm_image_size_tensor = torch.rand(size=(224,224,3)) #height ,width , color Channel (R,G,B)\n",
        "rndm_image_size_tensor.shape ,rndm_image_size_tensor.ndim"
      ],
      "metadata": {
        "colab": {
          "base_uri": "https://localhost:8080/"
        },
        "id": "o8Eqp9sNDjda",
        "outputId": "2083cc6b-27e6-4c49-c22d-4e0024cc24cf"
      },
      "execution_count": 18,
      "outputs": [
        {
          "output_type": "execute_result",
          "data": {
            "text/plain": [
              "(torch.Size([224, 224, 3]), 3)"
            ]
          },
          "metadata": {},
          "execution_count": 18
        }
      ]
    },
    {
      "cell_type": "markdown",
      "source": [
        "#Zeros and Ones"
      ],
      "metadata": {
        "id": "KZGB4O_T2GwF"
      }
    },
    {
      "cell_type": "code",
      "source": [
        "#Create a tensor  of all Zeros\n",
        "zeros= torch.zeros(size=(3,4))\n",
        "zeros"
      ],
      "metadata": {
        "id": "X02otN6A2KUZ",
        "outputId": "775bb93a-c000-48be-d198-3d15d0118c86",
        "colab": {
          "base_uri": "https://localhost:8080/"
        }
      },
      "execution_count": 19,
      "outputs": [
        {
          "output_type": "execute_result",
          "data": {
            "text/plain": [
              "tensor([[0., 0., 0., 0.],\n",
              "        [0., 0., 0., 0.],\n",
              "        [0., 0., 0., 0.]])"
            ]
          },
          "metadata": {},
          "execution_count": 19
        }
      ]
    },
    {
      "cell_type": "code",
      "source": [
        "zeros*random_tensor"
      ],
      "metadata": {
        "id": "VhsOiq4x2-93",
        "outputId": "a6676589-ff88-4d2a-f4b7-f66b4bb6843f",
        "colab": {
          "base_uri": "https://localhost:8080/"
        }
      },
      "execution_count": 25,
      "outputs": [
        {
          "output_type": "execute_result",
          "data": {
            "text/plain": [
              "tensor([[[0., 0., 0., 0.],\n",
              "         [0., 0., 0., 0.],\n",
              "         [0., 0., 0., 0.]],\n",
              "\n",
              "        [[0., 0., 0., 0.],\n",
              "         [0., 0., 0., 0.],\n",
              "         [0., 0., 0., 0.]]])"
            ]
          },
          "metadata": {},
          "execution_count": 25
        }
      ]
    },
    {
      "cell_type": "code",
      "source": [
        "#Create a tensor of all ones\n",
        "ones = torch.ones(size=(3,4))\n",
        "print(ones)\n",
        "print(random_tensor.dtype)"
      ],
      "metadata": {
        "id": "1rPAbbju4Sb9",
        "outputId": "188175d7-362a-4d77-80a2-10bf3bc45a1a",
        "colab": {
          "base_uri": "https://localhost:8080/"
        }
      },
      "execution_count": 28,
      "outputs": [
        {
          "output_type": "stream",
          "name": "stdout",
          "text": [
            "tensor([[1., 1., 1., 1.],\n",
            "        [1., 1., 1., 1.],\n",
            "        [1., 1., 1., 1.]])\n",
            "torch.float32\n"
          ]
        }
      ]
    }
  ]
}