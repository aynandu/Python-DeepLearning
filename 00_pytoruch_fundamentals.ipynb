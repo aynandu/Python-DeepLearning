{
  "cells": [
    {
      "attachments": {},
      "cell_type": "markdown",
      "metadata": {
        "colab_type": "text",
        "id": "view-in-github"
      },
      "source": [
        "<a href=\"https://colab.research.google.com/github/aynandu/Python-DeepLearning/blob/master/00_pytoruch_fundamentals.ipynb\" target=\"_parent\"><img src=\"https://colab.research.google.com/assets/colab-badge.svg\" alt=\"Open In Colab\"/></a>"
      ]
    },
    {
      "attachments": {},
      "cell_type": "markdown",
      "metadata": {
        "id": "5hNlFh54lOp-"
      },
      "source": [
        "#**00-Pytourch Fundamentals**\n",
        "\n",
        "Resource Book : https://www.learnpytorch.io/00_pytorch_fundamentals/\n",
        "Questions : https://github.com/mrdbourke/pytorch-deep-learning/discussions"
      ]
    },
    {
      "cell_type": "code",
      "execution_count": 2,
      "metadata": {
        "colab": {
          "base_uri": "https://localhost:8080/"
        },
        "id": "cUHIIgmSjbXu",
        "outputId": "c78a54c4-132c-4609-d7c2-71be379a075c"
      },
      "outputs": [
        {
          "name": "stdout",
          "output_type": "stream",
          "text": [
            "2.0.1+cpu\n"
          ]
        }
      ],
      "source": [
        "import torch\n",
        "#import pandas as pd\n",
        "import numpy as np\n",
        "import matplotlib.pyplot as plt\n",
        "print(torch.__version__)\n"
      ]
    },
    {
      "attachments": {},
      "cell_type": "markdown",
      "metadata": {
        "id": "PhXepHB-E7d3"
      },
      "source": [
        "#Introduction to Tensors\n",
        "\n",
        "###Creating tensors\n",
        "\n",
        "PyTorch Tensors are Created Using 'torch.tensor()' : - https://pytorch.org/docs/stable/tensors.html\n",
        "\n",
        "Tensor : - https://en.wikipedia.org/wiki/Tensor\n",
        "\n",
        "#scalar = 1 ,\n",
        "#Vector =\n",
        "        [\n",
        "          1\n",
        "          2]\n",
        "#matrix =\n",
        "      [\n",
        "          1 2\n",
        "          3 4\n",
        "              ]\n",
        "#tesnor =\n",
        "      [\n",
        "          [1 2] [3 2]\n",
        "          [1 7] [5 4]\n",
        "                    ]"
      ]
    },
    {
      "cell_type": "code",
      "execution_count": 3,
      "metadata": {
        "colab": {
          "base_uri": "https://localhost:8080/"
        },
        "id": "DujgWC4-BGfV",
        "outputId": "9de88fe4-9fdf-486b-98d1-ca075f9220e1"
      },
      "outputs": [
        {
          "data": {
            "text/plain": [
              "tensor(7)"
            ]
          },
          "execution_count": 3,
          "metadata": {},
          "output_type": "execute_result"
        }
      ],
      "source": [
        "#scalar\n",
        "scalar = torch.tensor(7)\n",
        "scalar\n"
      ]
    },
    {
      "cell_type": "code",
      "execution_count": 4,
      "metadata": {
        "colab": {
          "base_uri": "https://localhost:8080/"
        },
        "id": "tjlOH9OuGjWQ",
        "outputId": "ce4806a6-34d5-4cab-87b1-c779213958c4"
      },
      "outputs": [
        {
          "data": {
            "text/plain": [
              "0"
            ]
          },
          "execution_count": 4,
          "metadata": {},
          "output_type": "execute_result"
        }
      ],
      "source": [
        "#ndimention - scalar\n",
        "scalar.ndim"
      ]
    },
    {
      "cell_type": "code",
      "execution_count": 5,
      "metadata": {
        "colab": {
          "base_uri": "https://localhost:8080/"
        },
        "id": "EAQQ6CjpcDE-",
        "outputId": "f859fcde-23cd-4452-b820-403fa0405c1f"
      },
      "outputs": [
        {
          "data": {
            "text/plain": [
              "torch.Size([])"
            ]
          },
          "execution_count": 5,
          "metadata": {},
          "output_type": "execute_result"
        }
      ],
      "source": [
        "#Size\n",
        "scalar.shape"
      ]
    },
    {
      "cell_type": "code",
      "execution_count": 6,
      "metadata": {
        "colab": {
          "base_uri": "https://localhost:8080/"
        },
        "id": "fDFHEUFrGooz",
        "outputId": "6b7af4cb-197d-48df-f96e-d44726863c78"
      },
      "outputs": [
        {
          "data": {
            "text/plain": [
              "7"
            ]
          },
          "execution_count": 6,
          "metadata": {},
          "output_type": "execute_result"
        }
      ],
      "source": [
        "#Get Tensor Back as Python int\n",
        "scalar.item()"
      ]
    },
    {
      "cell_type": "code",
      "execution_count": 7,
      "metadata": {
        "colab": {
          "base_uri": "https://localhost:8080/"
        },
        "id": "gbiCoe5xY2qj",
        "outputId": "f1ef9f95-398b-4401-d8e7-1858773c86c8"
      },
      "outputs": [
        {
          "data": {
            "text/plain": [
              "tensor([7, 7])"
            ]
          },
          "execution_count": 7,
          "metadata": {},
          "output_type": "execute_result"
        }
      ],
      "source": [
        "#vector\n",
        "vector=torch.tensor([7,7])\n",
        "vector"
      ]
    },
    {
      "cell_type": "code",
      "execution_count": 8,
      "metadata": {
        "colab": {
          "base_uri": "https://localhost:8080/"
        },
        "id": "rX3fH0ZPbip9",
        "outputId": "8638dbe7-b8d5-4b81-e1df-91a4ad3c0050"
      },
      "outputs": [
        {
          "data": {
            "text/plain": [
              "1"
            ]
          },
          "execution_count": 8,
          "metadata": {},
          "output_type": "execute_result"
        }
      ],
      "source": [
        "#ndimention - Vector\n",
        "vector.ndim"
      ]
    },
    {
      "cell_type": "code",
      "execution_count": 9,
      "metadata": {
        "colab": {
          "base_uri": "https://localhost:8080/"
        },
        "id": "pcSuf1Cmbz0-",
        "outputId": "b1ee395e-3ba2-42ff-da01-7abea459e47c"
      },
      "outputs": [
        {
          "data": {
            "text/plain": [
              "torch.Size([2])"
            ]
          },
          "execution_count": 9,
          "metadata": {},
          "output_type": "execute_result"
        }
      ],
      "source": [
        "#size\n",
        "vector.shape"
      ]
    },
    {
      "cell_type": "code",
      "execution_count": 10,
      "metadata": {
        "colab": {
          "base_uri": "https://localhost:8080/"
        },
        "id": "ouWxKokFclTX",
        "outputId": "03fb0ce6-c7f9-444b-c246-15914eba6ece"
      },
      "outputs": [
        {
          "data": {
            "text/plain": [
              "tensor([[ 7,  8],\n",
              "        [ 9, 10],\n",
              "        [11, 12]])"
            ]
          },
          "execution_count": 10,
          "metadata": {},
          "output_type": "execute_result"
        }
      ],
      "source": [
        "#Matrix\n",
        "MATRIX =torch.tensor([[7,8],\n",
        "                      [9,10],\n",
        "                      [11,12]])\n",
        "MATRIX"
      ]
    },
    {
      "cell_type": "code",
      "execution_count": 11,
      "metadata": {
        "colab": {
          "base_uri": "https://localhost:8080/"
        },
        "id": "WMASLKM5dCDo",
        "outputId": "ee3b74b3-a91c-4604-ebea-f5e028c5cc6b"
      },
      "outputs": [
        {
          "data": {
            "text/plain": [
              "2"
            ]
          },
          "execution_count": 11,
          "metadata": {},
          "output_type": "execute_result"
        }
      ],
      "source": [
        "#ndimentions\n",
        "MATRIX.ndim\n"
      ]
    },
    {
      "cell_type": "code",
      "execution_count": 12,
      "metadata": {
        "colab": {
          "base_uri": "https://localhost:8080/"
        },
        "id": "NsMVPg1LmUWB",
        "outputId": "e8460aa9-4fc2-4cdd-f070-c437a41c0b1b"
      },
      "outputs": [
        {
          "data": {
            "text/plain": [
              "tensor([7, 8])"
            ]
          },
          "execution_count": 12,
          "metadata": {},
          "output_type": "execute_result"
        }
      ],
      "source": [
        "MATRIX[0]"
      ]
    },
    {
      "cell_type": "code",
      "execution_count": 13,
      "metadata": {
        "colab": {
          "base_uri": "https://localhost:8080/"
        },
        "id": "3MAa9AhDdJZh",
        "outputId": "7e9b5ff5-34a1-4c0d-938e-fe23b3bcfdbc"
      },
      "outputs": [
        {
          "data": {
            "text/plain": [
              "torch.Size([3, 2])"
            ]
          },
          "execution_count": 13,
          "metadata": {},
          "output_type": "execute_result"
        }
      ],
      "source": [
        "#Size\n",
        "MATRIX.shape"
      ]
    },
    {
      "cell_type": "code",
      "execution_count": 14,
      "metadata": {
        "colab": {
          "base_uri": "https://localhost:8080/"
        },
        "id": "3pm1GqI-mvk1",
        "outputId": "7d04857f-7b64-4cb6-fba3-664f3864127c"
      },
      "outputs": [
        {
          "data": {
            "text/plain": [
              "tensor([[[1, 2, 3],\n",
              "         [3, 6, 9],\n",
              "         [2, 4, 5],\n",
              "         [1, 3, 8]]])"
            ]
          },
          "execution_count": 14,
          "metadata": {},
          "output_type": "execute_result"
        }
      ],
      "source": [
        "#Tensor\n",
        "TENSOR = torch.tensor([[[1,2,3],\n",
        "                        [3,6,9],\n",
        "                        [2,4,5],\n",
        "                        [1,3,8]]])\n",
        "TENSOR\n",
        "#pink parent has 1 child \"blue\"; blue parent has 4 (column) child \"yellow\";each yellow having 3 (row) child values. it becomes shape of (1,4,3)"
      ]
    },
    {
      "cell_type": "code",
      "execution_count": 15,
      "metadata": {
        "colab": {
          "base_uri": "https://localhost:8080/"
        },
        "id": "FuL2nEKFn9by",
        "outputId": "a8c288d5-a360-497a-e8d2-b7c2f57ebac7"
      },
      "outputs": [
        {
          "data": {
            "text/plain": [
              "3"
            ]
          },
          "execution_count": 15,
          "metadata": {},
          "output_type": "execute_result"
        }
      ],
      "source": [
        "#ndimenstion\n",
        "TENSOR.ndim"
      ]
    },
    {
      "cell_type": "code",
      "execution_count": 16,
      "metadata": {
        "colab": {
          "base_uri": "https://localhost:8080/"
        },
        "id": "zIRYUwejoT0b",
        "outputId": "0be43e40-49fd-464a-85b5-ec681f7462c2"
      },
      "outputs": [
        {
          "data": {
            "text/plain": [
              "torch.Size([1, 4, 3])"
            ]
          },
          "execution_count": 16,
          "metadata": {},
          "output_type": "execute_result"
        }
      ],
      "source": [
        "#Size\n",
        "TENSOR.shape"
      ]
    },
    {
      "attachments": {},
      "cell_type": "markdown",
      "metadata": {
        "id": "MThTtHJGwWxs"
      },
      "source": [
        "#**Random Tensors**\n",
        "\n",
        "###*Why random tensors?*\n",
        "#####Random tensors are important because the way many neural networks learn is that they start with tensors full of random numbers and then adjust those numbers better represent the data.\n",
        "`Start with random numbers -> look at data -> update random numbers -> look at data -> update random numbers`"
      ]
    },
    {
      "cell_type": "code",
      "execution_count": 17,
      "metadata": {
        "colab": {
          "base_uri": "https://localhost:8080/"
        },
        "id": "RvSph3jpwe0Z",
        "outputId": "97f6292f-462f-4a9e-deb9-96f60e5f7056"
      },
      "outputs": [
        {
          "data": {
            "text/plain": [
              "tensor([[[0.8938, 0.8560, 0.5931, 0.6051],\n",
              "         [0.4005, 0.8497, 0.2522, 0.4007],\n",
              "         [0.8009, 0.4471, 0.0721, 0.5989]],\n",
              "\n",
              "        [[0.1610, 0.7024, 0.0730, 0.6089],\n",
              "         [0.2306, 0.4590, 0.5214, 0.1349],\n",
              "         [0.6900, 0.4930, 0.3704, 0.4179]]])"
            ]
          },
          "execution_count": 17,
          "metadata": {},
          "output_type": "execute_result"
        }
      ],
      "source": [
        "#Create A Random Matric of size\n",
        "random_tensor=torch.rand(2,3,4)\n",
        "random_tensor"
      ]
    },
    {
      "cell_type": "code",
      "execution_count": 18,
      "metadata": {
        "colab": {
          "base_uri": "https://localhost:8080/"
        },
        "id": "X-7v5cyA1q2x",
        "outputId": "a26753fa-deba-4253-ad19-a4ea8e49927e"
      },
      "outputs": [
        {
          "data": {
            "text/plain": [
              "3"
            ]
          },
          "execution_count": 18,
          "metadata": {},
          "output_type": "execute_result"
        }
      ],
      "source": [
        "random_tensor.ndim"
      ]
    },
    {
      "cell_type": "code",
      "execution_count": 19,
      "metadata": {
        "colab": {
          "base_uri": "https://localhost:8080/"
        },
        "id": "o8Eqp9sNDjda",
        "outputId": "2083cc6b-27e6-4c49-c22d-4e0024cc24cf"
      },
      "outputs": [
        {
          "data": {
            "text/plain": [
              "(torch.Size([224, 224, 3]), 3)"
            ]
          },
          "execution_count": 19,
          "metadata": {},
          "output_type": "execute_result"
        }
      ],
      "source": [
        "#Create a random tensor with  similar shape to an image tensor\n",
        "rndm_image_size_tensor = torch.rand(size=(224,224,3)) #height ,width , color Channel (R,G,B)\n",
        "rndm_image_size_tensor.shape ,rndm_image_size_tensor.ndim"
      ]
    },
    {
      "attachments": {},
      "cell_type": "markdown",
      "metadata": {
        "id": "KZGB4O_T2GwF"
      },
      "source": [
        "#Zeros and Ones"
      ]
    },
    {
      "cell_type": "code",
      "execution_count": 20,
      "metadata": {
        "colab": {
          "base_uri": "https://localhost:8080/"
        },
        "id": "X02otN6A2KUZ",
        "outputId": "775bb93a-c000-48be-d198-3d15d0118c86"
      },
      "outputs": [
        {
          "data": {
            "text/plain": [
              "tensor([[0., 0., 0., 0.],\n",
              "        [0., 0., 0., 0.],\n",
              "        [0., 0., 0., 0.]])"
            ]
          },
          "execution_count": 20,
          "metadata": {},
          "output_type": "execute_result"
        }
      ],
      "source": [
        "#Create a tensor  of all Zeros\n",
        "zeros= torch.zeros(size=(3,4))\n",
        "zeros"
      ]
    },
    {
      "cell_type": "code",
      "execution_count": 21,
      "metadata": {
        "colab": {
          "base_uri": "https://localhost:8080/"
        },
        "id": "VhsOiq4x2-93",
        "outputId": "a6676589-ff88-4d2a-f4b7-f66b4bb6843f"
      },
      "outputs": [
        {
          "data": {
            "text/plain": [
              "tensor([[[0., 0., 0., 0.],\n",
              "         [0., 0., 0., 0.],\n",
              "         [0., 0., 0., 0.]],\n",
              "\n",
              "        [[0., 0., 0., 0.],\n",
              "         [0., 0., 0., 0.],\n",
              "         [0., 0., 0., 0.]]])"
            ]
          },
          "execution_count": 21,
          "metadata": {},
          "output_type": "execute_result"
        }
      ],
      "source": [
        "zeros*random_tensor"
      ]
    },
    {
      "cell_type": "code",
      "execution_count": 22,
      "metadata": {
        "colab": {
          "base_uri": "https://localhost:8080/"
        },
        "id": "1rPAbbju4Sb9",
        "outputId": "188175d7-362a-4d77-80a2-10bf3bc45a1a"
      },
      "outputs": [
        {
          "name": "stdout",
          "output_type": "stream",
          "text": [
            "tensor([[1., 1., 1., 1.],\n",
            "        [1., 1., 1., 1.],\n",
            "        [1., 1., 1., 1.]])\n",
            "torch.float32\n"
          ]
        }
      ],
      "source": [
        "#Create a tensor of all ones\n",
        "ones = torch.ones(size=(3,4))\n",
        "print(ones)\n",
        "print(random_tensor.dtype)"
      ]
    },
    {
      "attachments": {},
      "cell_type": "markdown",
      "metadata": {},
      "source": [
        "Create a range of tensor and tensors - like"
      ]
    },
    {
      "cell_type": "code",
      "execution_count": 23,
      "metadata": {},
      "outputs": [
        {
          "data": {
            "text/plain": [
              "tensor([  0,  50, 100, 150, 200, 250, 300, 350, 400, 450, 500, 550, 600, 650,\n",
              "        700, 750, 800, 850, 900, 950])"
            ]
          },
          "execution_count": 23,
          "metadata": {},
          "output_type": "execute_result"
        }
      ],
      "source": [
        "#use torch.arange()\n",
        "#torch.range() is also having same function but it will be removed in upcoming updates use torch.arange() instead of that.\n",
        "range_Num=torch.arange(start=0,end=1000,step=50) # no step means default step is 1\n",
        "range_Num"
      ]
    },
    {
      "cell_type": "code",
      "execution_count": 24,
      "metadata": {},
      "outputs": [
        {
          "data": {
            "text/plain": [
              "tensor([0, 0, 0, 0, 0, 0, 0, 0, 0, 0, 0, 0, 0, 0, 0, 0, 0, 0, 0, 0])"
            ]
          },
          "execution_count": 24,
          "metadata": {},
          "output_type": "execute_result"
        }
      ],
      "source": [
        "# Creating a tensors like \n",
        "ten_zeros=torch.zeros_like(input=range_Num)\n",
        "ten_zeros"
      ]
    },
    {
      "attachments": {},
      "cell_type": "markdown",
      "metadata": {},
      "source": [
        "Tensor Data Types\n",
        "\n",
        "`Note : Tensor data type is the one of the 3 big errors you'll run into with Pytorch & Deep Learning`\n",
        "1. Tensors not right datatype\n",
        "2. Tensors not right shape\n",
        "3. Tensors not on the right device\n",
        "\n",
        "Precesion in Computing : https://en.wikipedia.org/wiki/Precision_(computer_science)"
      ]
    },
    {
      "cell_type": "code",
      "execution_count": 25,
      "metadata": {},
      "outputs": [
        {
          "data": {
            "text/plain": [
              "tensor([3., 6., 9.])"
            ]
          },
          "execution_count": 25,
          "metadata": {},
          "output_type": "execute_result"
        }
      ],
      "source": [
        "#Float 32 tensor\n",
        "float_32_tensor = torch.tensor([3.0,6.0,9.0],\n",
        "                               dtype=torch.float32,# what datatype is the tensro (eg: float16,float32,float64)\n",
        "                               device=None, #cpu,gpu,cuda\n",
        "                               requires_grad=False)\n",
        "float_32_tensor"
      ]
    },
    {
      "cell_type": "code",
      "execution_count": 26,
      "metadata": {},
      "outputs": [
        {
          "data": {
            "text/plain": [
              "torch.float32"
            ]
          },
          "execution_count": 26,
          "metadata": {},
          "output_type": "execute_result"
        }
      ],
      "source": [
        "float_32_tensor.dtype"
      ]
    },
    {
      "cell_type": "code",
      "execution_count": 27,
      "metadata": {},
      "outputs": [
        {
          "data": {
            "text/plain": [
              "tensor([3., 6., 9.], dtype=torch.float16)"
            ]
          },
          "execution_count": 27,
          "metadata": {},
          "output_type": "execute_result"
        }
      ],
      "source": [
        "float_16_tensor = float_32_tensor.type(torch.float16)\n",
        "float_16_tensor"
      ]
    },
    {
      "cell_type": "code",
      "execution_count": 28,
      "metadata": {},
      "outputs": [
        {
          "name": "stdout",
          "output_type": "stream",
          "text": [
            "tensor([3, 6, 9], dtype=torch.int32)\n",
            "value is tensor([ 9., 36., 81.]) data type is torch.float32\n"
          ]
        }
      ],
      "source": [
        "int_32_tensor=torch.tensor([3,6,9],dtype=torch.int32)\n",
        "print(int_32_tensor)\n",
        "value= float_32_tensor * int_32_tensor\n",
        "print (f\"value is {value} data type is {value.dtype}\")"
      ]
    },
    {
      "attachments": {},
      "cell_type": "markdown",
      "metadata": {
        "tags": [
          "parameters"
        ]
      },
      "source": [
        "Get information from tensors (tensor attribute)\n",
        "\n",
        "1. tensor not right datatype -  to  get datatype from a tensor, can use  `tensor.dtype`\n",
        "2. tensor not right shape -  to  get shape from a tensor, can use  `tensor.shape`\n",
        "1. tensor not on the right device -  to get device  from a tensor, can use  `tensor.device`"
      ]
    },
    {
      "cell_type": "code",
      "execution_count": 29,
      "metadata": {},
      "outputs": [
        {
          "data": {
            "text/plain": [
              "tensor([[0.5039, 0.9382, 0.5554, 0.8323],\n",
              "        [0.9079, 0.3215, 0.6800, 0.7632],\n",
              "        [0.1075, 0.3631, 0.5416, 0.3393]])"
            ]
          },
          "execution_count": 29,
          "metadata": {},
          "output_type": "execute_result"
        }
      ],
      "source": [
        "# Create a random tensor\n",
        "some_tensor = torch.rand(3,4)\n",
        "some_tensor"
      ]
    },
    {
      "cell_type": "code",
      "execution_count": 30,
      "metadata": {},
      "outputs": [
        {
          "name": "stdout",
          "output_type": "stream",
          "text": [
            "Data Type : torch.float32 | Shape : torch.Size([3, 4]) | Size : <built-in method size of Tensor object at 0x00000211C48155E0> |  Device : cpu\n"
          ]
        }
      ],
      "source": [
        "#Find out details about Some Tensor\n",
        "print(f\"Data Type : {some_tensor.dtype} | Shape : {some_tensor.shape} | Size : {some_tensor.size} |  Device : {some_tensor.device}\")\n",
        "# NB: some_tensor.size is a fun not attribute"
      ]
    },
    {
      "attachments": {},
      "cell_type": "markdown",
      "metadata": {},
      "source": [
        "Maaipulating Tensor (tensor operations)\n",
        "\n",
        "Tensor operations include : \n",
        "* Addition\n",
        "* Subtraction\n",
        "* Multiplication (Element-wise)\n",
        "* Division\n",
        "* Matrix multplication\n",
        "\n"
      ]
    },
    {
      "cell_type": "code",
      "execution_count": 31,
      "metadata": {},
      "outputs": [
        {
          "name": "stdout",
          "output_type": "stream",
          "text": [
            "tensor([ 2,  4, 10])\n",
            "\n",
            " Addition :  tensor([12, 14, 20])\n",
            "\n",
            " Multiply :  tensor([ 20,  40, 100])\n",
            "\n",
            " Subtract :  tensor([-8, -6,  0])\n"
          ]
        }
      ],
      "source": [
        "# Create a Tensor\n",
        "tensor_manip = torch.tensor([2,4,10])\n",
        "print(tensor_manip)\n",
        "# Addition\n",
        "print(\"\\n Addition : \" , tensor_manip+10)\n",
        "# Multiply\n",
        "print(\"\\n Multiply : \" , tensor_manip*10)\n",
        "#Subtract\n",
        "print(\"\\n Subtract : \" , tensor_manip-10)"
      ]
    },
    {
      "cell_type": "code",
      "execution_count": 32,
      "metadata": {},
      "outputs": [
        {
          "name": "stdout",
          "output_type": "stream",
          "text": [
            "\n",
            " Addition :  tensor([12, 14, 20])\n",
            "\n",
            " Subtract :  tensor([-8, -6,  0])\n",
            "\n",
            " Multiply :  tensor([ 20,  40, 100])\n"
          ]
        }
      ],
      "source": [
        "# Try out with PyTorch in-built function\n",
        "# Addition\n",
        "print(\"\\n Addition : \" , torch.add(tensor_manip,10))\n",
        "# Subtract\n",
        "print(\"\\n Subtract : \" , torch.sub(tensor_manip,10))\n",
        "# Multiply\n",
        "print(\"\\n Multiply : \" ,  torch.mul(tensor_manip,10))"
      ]
    },
    {
      "attachments": {},
      "cell_type": "markdown",
      "metadata": {},
      "source": [
        "Matrix Multiplication\n",
        "\n",
        "Two main ways of performing Multiplication in neural networks and deep learning\n",
        "\n",
        "1. Element - wise multiplication\n",
        "2. Matrix multiplication (dot product)\n",
        "\n",
        "More Infromation on Multiplying Matrices : https://www.mathsisfun.com/algebra/matrix-multiplying.html\n",
        "\n",
        "and https://www.matrixmultiplication.xyz\n",
        "\n",
        "There are two main rules that performing matrix multiplication to satisfy : \n",
        "1. The **inner dimension** must Match :\n",
        "    * (3,2) @ (3,2) won't work  --> inner dimension  2 (columns) x 3 (rows)\n",
        "    * (2,3) @ (3,2) will work   --> inner dimension  3 (columns) x 3 (rows)\n",
        "    * (3,2) @ (2,3) will work   --> inner dimension  2 (columns) x 2 (rows)\n",
        "2. The resulting Matrixs have he shape of the **outer dimensions** :\n",
        "    * (2,3) @ (3,2) will work   --> outer dimension  2 (rows) x 2 (columns)\n",
        "    * (3,2) @ (2,3) will work   --> outer dimension  3 (rows) x 3 (columns)"
      ]
    },
    {
      "cell_type": "code",
      "execution_count": 33,
      "metadata": {},
      "outputs": [
        {
          "name": "stdout",
          "output_type": "stream",
          "text": [
            "Normal random Matrix :\n",
            " tensor([[0.5639, 0.4919, 0.6971, 0.4261, 0.5554],\n",
            "        [0.6911, 0.7193, 0.2680, 0.1965, 0.5465],\n",
            "        [0.2205, 0.1492, 0.0533, 0.5625, 0.8992]])\n",
            "\n",
            "Resulting Matrix :\n"
          ]
        },
        {
          "data": {
            "text/plain": [
              "tensor([[1.5155, 1.9095, 1.9760],\n",
              "        [0.8197, 1.2377, 1.0084],\n",
              "        [0.9577, 1.8182, 1.3424]])"
            ]
          },
          "execution_count": 33,
          "metadata": {},
          "output_type": "execute_result"
        }
      ],
      "source": [
        "print(\"Normal random Matrix :\\n\",torch.rand(3,5))\n",
        "print(\"\\nResulting Matrix :\")\n",
        "torch.matmul(torch.rand(3,5),torch.rand(5,3)) #The resulting Matrixs have he shape of the **outer dimensions** :"
      ]
    },
    {
      "cell_type": "code",
      "execution_count": 34,
      "metadata": {},
      "outputs": [
        {
          "name": "stdout",
          "output_type": "stream",
          "text": [
            "tensor([1, 2, 3]) * tensor([1, 2, 3])\n",
            "Equals =  tensor([1, 4, 9])\n"
          ]
        }
      ],
      "source": [
        "# Element wise multiplication\n",
        "tensor = torch.tensor([1,2,3])\n",
        "print(tensor, \"*\" , tensor)\n",
        "print(\"Equals = \",tensor*tensor)"
      ]
    },
    {
      "cell_type": "code",
      "execution_count": 35,
      "metadata": {},
      "outputs": [
        {
          "name": "stdout",
          "output_type": "stream",
          "text": [
            "tensor(14)\n",
            "tensor(14)\n"
          ]
        }
      ],
      "source": [
        "#Matrix Multiplication\n",
        "print (torch.matmul(tensor,tensor))\n",
        "print (torch.dot(tensor,tensor))"
      ]
    },
    {
      "cell_type": "code",
      "execution_count": 36,
      "metadata": {},
      "outputs": [
        {
          "name": "stdout",
          "output_type": "stream",
          "text": [
            "tensor(14)\n",
            "CPU times: total: 0 ns\n",
            "Wall time: 2.99 ms\n"
          ]
        }
      ],
      "source": [
        "%%time\n",
        "value=0\n",
        "for i in range(len(tensor)):\n",
        "    value+=tensor[i]*tensor[i]\n",
        "print(value)"
      ]
    },
    {
      "cell_type": "code",
      "execution_count": 37,
      "metadata": {},
      "outputs": [
        {
          "name": "stdout",
          "output_type": "stream",
          "text": [
            "tensor(14)\n",
            "CPU times: total: 0 ns\n",
            "Wall time: 1.35 ms\n"
          ]
        }
      ],
      "source": [
        "%%time\n",
        "print(torch.matmul(tensor,tensor))"
      ]
    },
    {
      "attachments": {},
      "cell_type": "markdown",
      "metadata": {},
      "source": [
        "One of the Common Errors in deep Learning : shape Errors"
      ]
    },
    {
      "cell_type": "code",
      "execution_count": 38,
      "metadata": {},
      "outputs": [
        {
          "ename": "RuntimeError",
          "evalue": "mat1 and mat2 shapes cannot be multiplied (3x2 and 3x2)",
          "output_type": "error",
          "traceback": [
            "\u001b[1;31m---------------------------------------------------------------------------\u001b[0m",
            "\u001b[1;31mRuntimeError\u001b[0m                              Traceback (most recent call last)",
            "Cell \u001b[1;32mIn[38], line 8\u001b[0m\n\u001b[0;32m      1\u001b[0m tensor_A \u001b[39m=\u001b[39m torch\u001b[39m.\u001b[39mtensor([[\u001b[39m1\u001b[39m,\u001b[39m2\u001b[39m],\n\u001b[0;32m      2\u001b[0m                          [\u001b[39m3\u001b[39m,\u001b[39m4\u001b[39m],\n\u001b[0;32m      3\u001b[0m                          [\u001b[39m5\u001b[39m,\u001b[39m6\u001b[39m]])\n\u001b[0;32m      5\u001b[0m tensor_B \u001b[39m=\u001b[39m torch\u001b[39m.\u001b[39mtensor([[\u001b[39m7\u001b[39m,\u001b[39m10\u001b[39m],\n\u001b[0;32m      6\u001b[0m                          [\u001b[39m8\u001b[39m,\u001b[39m11\u001b[39m],\n\u001b[0;32m      7\u001b[0m                          [\u001b[39m9\u001b[39m,\u001b[39m12\u001b[39m]])   \n\u001b[1;32m----> 8\u001b[0m torch\u001b[39m.\u001b[39;49mmm(tensor_A,tensor_B) \u001b[39m#torch.mm is torch.matmul      \u001b[39;00m\n\u001b[0;32m      9\u001b[0m \u001b[39m# Cell No:27 - Error 2-- shape error               \u001b[39;00m\n",
            "\u001b[1;31mRuntimeError\u001b[0m: mat1 and mat2 shapes cannot be multiplied (3x2 and 3x2)"
          ]
        }
      ],
      "source": [
        "tensor_A = torch.tensor([[1,2],\n",
        "                         [3,4],\n",
        "                         [5,6]])\n",
        "\n",
        "tensor_B = torch.tensor([[7,10],\n",
        "                         [8,11],\n",
        "                         [9,12]])   \n",
        "torch.mm(tensor_A,tensor_B) #torch.mm is torch.matmul      \n",
        "# Cell No:27 - Error 2-- shape error               "
      ]
    },
    {
      "cell_type": "code",
      "execution_count": null,
      "metadata": {},
      "outputs": [
        {
          "data": {
            "text/plain": [
              "(torch.Size([3, 2]), torch.Size([3, 2]))"
            ]
          },
          "execution_count": 74,
          "metadata": {},
          "output_type": "execute_result"
        }
      ],
      "source": [
        "tensor_A.shape,tensor_B.shape"
      ]
    },
    {
      "attachments": {},
      "cell_type": "markdown",
      "metadata": {},
      "source": [
        "To Fix our tensor shape issues , we can manipulate the shape of one of our tensors using a **transpose**.\n",
        "\n",
        "A **transpose** switches the axes or dimensions of a given tensor"
      ]
    },
    {
      "cell_type": "code",
      "execution_count": null,
      "metadata": {},
      "outputs": [
        {
          "data": {
            "text/plain": [
              "(tensor([[ 27,  30,  33],\n",
              "         [ 61,  68,  75],\n",
              "         [ 95, 106, 117]]),\n",
              " torch.Size([3, 3]))"
            ]
          },
          "execution_count": 77,
          "metadata": {},
          "output_type": "execute_result"
        }
      ],
      "source": [
        "torch.mm(tensor_A,tensor_B.T) , torch.mm(tensor_A,tensor_B.T).shape"
      ]
    },
    {
      "cell_type": "code",
      "execution_count": null,
      "metadata": {},
      "outputs": [
        {
          "name": "stdout",
          "output_type": "stream",
          "text": [
            "Orginal Shapes: tensor_A = torch.Size([3, 2]) tensor_B = torch.Size([3])\n",
            "New Shapes: tensor_A =torch.Size([3, 2]) (same as above) tensor_B.T = torch.Size([2, 3])\n",
            "Multiplying : torch.Size([3, 2]) @ torch.Size([2, 3]) <-- Inner dimension must match\n",
            "\n",
            "Output\n",
            "tensor([[ 27,  30,  33],\n",
            "        [ 61,  68,  75],\n",
            "        [ 95, 106, 117]])\n",
            "\n",
            "Out Shape  : torch.Size([3, 3])\n"
          ]
        }
      ],
      "source": [
        "# Matrix Multiplication works when tensor_B is transposed :\n",
        "print(f\"Orginal Shapes: tensor_A = {tensor_A.shape} tensor_B = {tensor.shape}\")\n",
        "print(f\"New Shapes: tensor_A ={tensor_A.shape} (same as above) tensor_B.T = {tensor_B.T.shape}\")\n",
        "print(f\"Multiplying : {tensor_A.shape} @ {tensor_B.T.shape} <-- Inner dimension must match\")\n",
        "print(\"\\nOutput\")\n",
        "output= torch.mm(tensor_A,tensor_B.T)\n",
        "print(output)\n",
        "print(f\"\\nOut Shape  : {output.shape}\")"
      ]
    },
    {
      "attachments": {},
      "cell_type": "markdown",
      "metadata": {},
      "source": [
        "Finding the min, max, mean, sum etc (tensor aggregation)"
      ]
    },
    {
      "cell_type": "code",
      "execution_count": null,
      "metadata": {},
      "outputs": [
        {
          "data": {
            "text/plain": [
              "tensor([ 0, 10, 20, 30, 40, 50, 60, 70, 80, 90])"
            ]
          },
          "execution_count": 84,
          "metadata": {},
          "output_type": "execute_result"
        }
      ],
      "source": [
        "# Create a Tensor \n",
        "x=torch.arange(0,100,10)\n",
        "x"
      ]
    },
    {
      "cell_type": "code",
      "execution_count": null,
      "metadata": {},
      "outputs": [
        {
          "name": "stdout",
          "output_type": "stream",
          "text": [
            "min : 0\n",
            "Max : 90 \n",
            "sum 450 also use this method 450\n"
          ]
        }
      ],
      "source": [
        "#Find Max & Min ,sum\n",
        "print(f\"min : {torch.min(x)}\\nMax : {torch.max(x)} \\nsum {torch.sum(x)} also use this method {x.sum()}\")"
      ]
    },
    {
      "cell_type": "code",
      "execution_count": null,
      "metadata": {},
      "outputs": [
        {
          "data": {
            "text/plain": [
              "(tensor(45.), tensor(45.))"
            ]
          },
          "execution_count": 91,
          "metadata": {},
          "output_type": "execute_result"
        }
      ],
      "source": [
        "#Find Mean -  note : the torch.mean() function requires a tensor of float32 datatype to work \n",
        "torch.mean(x.type(torch.float32)), x.type(torch.float32).mean()\n",
        "#print(f\"mean: {torch.mean(x)}\") --> Error : mean(): could not infer output dtype. Input dtype must be either a floating point or complex dtype. Got: Long\n",
        "\n",
        "# Cell No:27 - Error 1- Right Data Type error "
      ]
    },
    {
      "attachments": {},
      "cell_type": "markdown",
      "metadata": {},
      "source": [
        "Finding the Positional min and max"
      ]
    },
    {
      "cell_type": "code",
      "execution_count": null,
      "metadata": {},
      "outputs": [
        {
          "name": "stdout",
          "output_type": "stream",
          "text": [
            "tensor(0) tensor(0)\n",
            "tensor(9) tensor(90)\n"
          ]
        }
      ],
      "source": [
        "#find the position in tensor  that has the minimum value with argmin() --> returns index position of target tensor wehere the minimum value occurs\n",
        "print(x.argmin(),x[0])\n",
        "#find the position in tensor  that has the maximum value with argmin() --> returns index position of target tensor wehere the maximum value occurs\n",
        "print(x.argmax(),x[9])"
      ]
    },
    {
      "attachments": {},
      "cell_type": "markdown",
      "metadata": {},
      "source": [
        "**Reshaping , stacking , squeezing and unsqueezing tensors**\n",
        "\n",
        "* Reshaping - reshapes an input tensor to a defined shape\n",
        "* View  - Return a view of an input tensor of certain shape but keep the same memory as the Orginal tensor.\n",
        "* Stacking - Combine multiple tensors on the top of each other (vstack) or side by side (hstack); \n",
        "    * torch.stack :- https://pytorch.org/docs/stable/generated/torch.stack.html\n",
        "    * Vstack :- https://pytorch.org/docs/stable/generated/torch.vstack.html   (Stack tensors in sequence vertically (row wise).)\n",
        "    * hstack :- https://pytorch.org/docs/stable/generated/torch.hstack.html   (Stack tensors in sequence horizontally (column wise).)\n",
        "\n",
        "* Squeeze - removes all 1 dimensions from a tensor ; https://pytorch.org/docs/stable/generated/torch.squeeze.html\n",
        "* Unsqueeze - Add a 1 domension to a target tensor\n",
        "* Permute - Return  a View of the input with dimensions permuted (swapped) in a certain way\n"
      ]
    },
    {
      "attachments": {},
      "cell_type": "markdown",
      "metadata": {},
      "source": [
        "* രീഷേപ് - ഇന്പുട്ട് ടെൻസർ ഒരു നിർവ്വചിത ആകർഷണത്തിലേക്ക് രീഷേപ് ചെയ്യുന്നു\n",
        "* വ്യൂ - ഒരു ഇൻപുട്ട് ടെൻസർ നിരീക്ഷണരൂപത്തിൽ ഒരു കൊടുത്ത ആകർഷണം ലഭിക്കുന്നു, പക്ഷേ ഓരോരുത്തരും ഒരേ മെമ്മറിയിൽ നിന്നും ഉണ്ടാക്കുന്നു.\n",
        "* സ്റ്റാക്ക് - ഒന്നിലധികം ടെൻസർമാരെ top of each other ഒരുമിക്കും ചേർത്ത് ഉണ്ടാക്കുന്നു (VStack) അല്ലെങ്കിൽ side by side ഒരുമിക്കും പ്രത്യേക പകർപ്പ് (hStack) ചേർത്ത് ഉണ്ടാക്കുന്നു.\n",
        "* സ്വീസ് - ഒരു ടെൻസർമാരിൽ നിന്ന് എല്ലാ 1 ആകർഷണങ്ങളും നീക്കം ചെയ്യുന്നു\n",
        "* അൺസ്വീസ് - ഒരു ലക്ഷ്യമായ ടെൻസർമാരിൽ 1 ഡിമൻഷൻ ചേർക്കുന്നു\n",
        "* പർമ്യൂട്ട് - നിർവ്വചിത രീതിയിൽ ടെൻസർ ഡിമൻഷൻസുകൾ പെർമ്യൂട്ട് ചെയ്യുന്നു (അനുസ്വരിച്ച് മാറ്റുന്നു) എന്നതാണ് പർമ്യൂട്ട് എന്നത്"
      ]
    },
    {
      "cell_type": "code",
      "execution_count": 40,
      "metadata": {},
      "outputs": [
        {
          "data": {
            "text/plain": [
              "(tensor([1., 2., 3., 4., 5., 6., 7., 8., 9.]), torch.Size([9]))"
            ]
          },
          "execution_count": 40,
          "metadata": {},
          "output_type": "execute_result"
        }
      ],
      "source": [
        "# Create a tensor \n",
        "N=torch.arange(1.,10.)\n",
        "N,N.shape\n",
        "# Here N having 9 elements at 1 dimensional with a size of 9 ---> (1)"
      ]
    },
    {
      "cell_type": "code",
      "execution_count": 45,
      "metadata": {},
      "outputs": [
        {
          "name": "stdout",
          "output_type": "stream",
          "text": [
            "N_reshape : tensor([[6., 2., 3., 4., 5., 6., 7., 8., 9.]])\n",
            " N : tensor([6., 2., 3., 4., 5., 6., 7., 8., 9.])\n"
          ]
        }
      ],
      "source": [
        "# Add an Extra Dimension\n",
        "N_reshape = N.reshape(1,9)\n",
        "N_reshape[:,0]=6\n",
        "N_reshape,N_reshape.shape\n",
        "print(f\"N_reshape : {N_reshape}\\n N : {N}\")\n",
        "# As we know that from (1) Elements in N is reshaped in certain shape which is multiply in both ways to get the size of N. (1,9),(9,1),(3,3) = 9 (Row x Column)\n",
        "# Else Eg : shape '[5, 3]' is invalid for input of size 9"
      ]
    },
    {
      "cell_type": "code",
      "execution_count": null,
      "metadata": {},
      "outputs": [
        {
          "name": "stdout",
          "output_type": "stream",
          "text": [
            "N_view : tensor([[5., 2., 3., 4., 5., 6., 7., 8., 9.]])\n",
            " N : tensor([5., 2., 3., 4., 5., 6., 7., 8., 9.])\n"
          ]
        }
      ],
      "source": [
        "# Change the View\n",
        "N_view=N.view(1,9)\n",
        "N_view[:,0]=5\n",
        "print(f\"N_view : {N_view}\\n N : {N}\")\n",
        "# Changing Z changes N (because a view of a tensor shares the same memory as the orginal)"
      ]
    },
    {
      "cell_type": "code",
      "execution_count": null,
      "metadata": {},
      "outputs": [
        {
          "data": {
            "text/plain": [
              "(tensor([[5., 5., 5., 5.],\n",
              "         [2., 2., 2., 2.],\n",
              "         [3., 3., 3., 3.],\n",
              "         [4., 4., 4., 4.],\n",
              "         [5., 5., 5., 5.],\n",
              "         [6., 6., 6., 6.],\n",
              "         [7., 7., 7., 7.],\n",
              "         [8., 8., 8., 8.],\n",
              "         [9., 9., 9., 9.]]),\n",
              " torch.Size([9, 4]))"
            ]
          },
          "execution_count": 133,
          "metadata": {},
          "output_type": "execute_result"
        }
      ],
      "source": [
        "#Stack tensor on top of each other\n",
        "N_stack = torch.stack([N,N,N,N],dim=1)\n",
        "N_stack,N_stack.shape"
      ]
    },
    {
      "attachments": {},
      "cell_type": "markdown",
      "metadata": {},
      "source": [
        "**torch.Squeeze**"
      ]
    },
    {
      "cell_type": "code",
      "execution_count": 51,
      "metadata": {},
      "outputs": [
        {
          "name": "stdout",
          "output_type": "stream",
          "text": [
            "Previous tensor tensor([[6., 2., 3., 4., 5., 6., 7., 8., 9.]])\n",
            "Previous Size  torch.Size([1, 9])\n",
            "New tensor tensor([6., 2., 3., 4., 5., 6., 7., 8., 9.])\n",
            "New Size  torch.Size([9])\n"
          ]
        }
      ],
      "source": [
        "#torch.squeeze() - remove all single dimensions from a target tensor\n",
        "print(f\"Previous tensor {N_reshape}\\nPrevious Size  {N_reshape.shape}\")\n",
        "#Remove extra dimenstion from N_reshape\n",
        "N_squeezed =N_reshape.squeeze()\n",
        "print(f\"New tensor {N_squeezed}\\nNew Size  {N_squeezed.shape}\")"
      ]
    },
    {
      "attachments": {},
      "cell_type": "markdown",
      "metadata": {},
      "source": [
        "*torch.Unsqueeze*"
      ]
    },
    {
      "cell_type": "code",
      "execution_count": 55,
      "metadata": {},
      "outputs": [
        {
          "name": "stdout",
          "output_type": "stream",
          "text": [
            "Previous tensor tensor([6., 2., 3., 4., 5., 6., 7., 8., 9.])\n",
            "Previous Size  torch.Size([9])\n",
            "New tensor tensor([[6., 2., 3., 4., 5., 6., 7., 8., 9.]])\n",
            "New Size  torch.Size([1, 9])\n"
          ]
        }
      ],
      "source": [
        "#torch.unsqueeze()-adds a single dimension to a target tensor at a specific dim (dimension)\n",
        "print(f\"Previous tensor {N_squeezed}\\nPrevious Size  {N_squeezed.shape}\")\n",
        "#Add an extra dimension with unsqueeze\n",
        "N_unsqueez=N_squeezed.unsqueeze(dim=0)\n",
        "print(f\"New tensor {N_unsqueez}\\nNew Size  {N_unsqueez.shape}\")"
      ]
    },
    {
      "attachments": {},
      "cell_type": "markdown",
      "metadata": {},
      "source": [
        "***torch.permute*** - rearrange the dimensions of a target tensor in a specified order"
      ]
    },
    {
      "cell_type": "code",
      "execution_count": 57,
      "metadata": {},
      "outputs": [
        {
          "name": "stdout",
          "output_type": "stream",
          "text": [
            "Previous Size  torch.Size([9])\n",
            "New Size  torch.Size([1, 9])\n"
          ]
        }
      ],
      "source": [
        "x_orginal = torch.rand(size=(224,225,3)) #Eg: [height,width,color_channel]\n",
        "#Permute the orginal tensor to rearrange the axis (or dim) order\n",
        "x_permuted=x_orginal.permute(2,0,1) #shifts axis (224) 0 -> 1, (225) 1 -> 2 , (3) 2 -> 0\n",
        "\n",
        "print(f\"Previous Size  {N_squeezed.shape}\") #[height,width,color_channel]\n",
        "print(f\"New Size  {N_unsqueez.shape}\") #[color_channel,height,width,]"
      ]
    },
    {
      "cell_type": "code",
      "execution_count": 60,
      "metadata": {},
      "outputs": [
        {
          "data": {
            "text/plain": [
              "(tensor(7289.), tensor(7289.))"
            ]
          },
          "execution_count": 60,
          "metadata": {},
          "output_type": "execute_result"
        }
      ],
      "source": [
        "x_orginal[0,0,0] = 7289 \n",
        "x_orginal[0,0,0] ,x_permuted[0,0,0]"
      ]
    },
    {
      "attachments": {},
      "cell_type": "markdown",
      "metadata": {},
      "source": [
        "**Indexing (Selecting data from tensors)**\n",
        "\n",
        "Indexing with pytorch is similar to indexing with numpy"
      ]
    },
    {
      "cell_type": "code",
      "execution_count": 72,
      "metadata": {},
      "outputs": [
        {
          "data": {
            "text/plain": [
              "(tensor([[[1, 2, 3],\n",
              "          [4, 5, 6],\n",
              "          [7, 8, 9]]]),\n",
              " torch.Size([1, 3, 3]))"
            ]
          },
          "execution_count": 72,
          "metadata": {},
          "output_type": "execute_result"
        }
      ],
      "source": [
        "#Create a tensor\n",
        "t=torch.arange(1,10).reshape(1,3,3)\n",
        "t,t.shape"
      ]
    },
    {
      "cell_type": "code",
      "execution_count": 64,
      "metadata": {},
      "outputs": [
        {
          "data": {
            "text/plain": [
              "tensor([[1, 2, 3],\n",
              "        [4, 5, 6],\n",
              "        [7, 8, 9]])"
            ]
          },
          "execution_count": 64,
          "metadata": {},
          "output_type": "execute_result"
        }
      ],
      "source": [
        "# Let's Index on our new tensor\n",
        "\n",
        "t[0]"
      ]
    },
    {
      "cell_type": "code",
      "execution_count": 78,
      "metadata": {},
      "outputs": [
        {
          "data": {
            "text/plain": [
              "tensor([4, 5, 6])"
            ]
          },
          "execution_count": 78,
          "metadata": {},
          "output_type": "execute_result"
        }
      ],
      "source": [
        "#Let's index on the middle bracket (dim=1)\n",
        "t[0,1]"
      ]
    },
    {
      "cell_type": "code",
      "execution_count": 73,
      "metadata": {},
      "outputs": [
        {
          "data": {
            "text/plain": [
              "tensor(6)"
            ]
          },
          "execution_count": 73,
          "metadata": {},
          "output_type": "execute_result"
        }
      ],
      "source": [
        "#Let's index on the most inner bracket (Last dimension)\n",
        "t[0,1,2]"
      ]
    },
    {
      "cell_type": "code",
      "execution_count": 75,
      "metadata": {},
      "outputs": [
        {
          "data": {
            "text/plain": [
              "tensor([[4, 5, 6]])"
            ]
          },
          "execution_count": 75,
          "metadata": {},
          "output_type": "execute_result"
        }
      ],
      "source": [
        "# You can also use ':' to select all of a target dimension\n",
        "t[:,1]"
      ]
    },
    {
      "cell_type": "code",
      "execution_count": 79,
      "metadata": {},
      "outputs": [
        {
          "data": {
            "text/plain": [
              "tensor([[2, 5, 8]])"
            ]
          },
          "execution_count": 79,
          "metadata": {},
          "output_type": "execute_result"
        }
      ],
      "source": [
        "#Get all values of 0th and 1st dimensions but only index 1 of 2nd dimension\n",
        "t[:,:,1]"
      ]
    },
    {
      "cell_type": "code",
      "execution_count": 81,
      "metadata": {},
      "outputs": [
        {
          "data": {
            "text/plain": [
              "tensor([5])"
            ]
          },
          "execution_count": 81,
          "metadata": {},
          "output_type": "execute_result"
        }
      ],
      "source": [
        "#Get all values of 0th dimension  but only 1 index value of 1st and 2nd dimension\n",
        "t[:,1,1]"
      ]
    },
    {
      "cell_type": "code",
      "execution_count": 82,
      "metadata": {},
      "outputs": [
        {
          "data": {
            "text/plain": [
              "tensor([1, 2, 3])"
            ]
          },
          "execution_count": 82,
          "metadata": {},
          "output_type": "execute_result"
        }
      ],
      "source": [
        "#Get index0 of 0th dimension and 1st dimension and all values of 2nd dimension\n",
        "t[0,0,:]"
      ]
    },
    {
      "cell_type": "code",
      "execution_count": 84,
      "metadata": {},
      "outputs": [
        {
          "name": "stdout",
          "output_type": "stream",
          "text": [
            "tensor(9)\n",
            "tensor([3, 6, 9])\n"
          ]
        }
      ],
      "source": [
        "#Index on t to return 9\n",
        "print(t[0,2,2])\n",
        "\n",
        "# index on t to return 3,6,9\n",
        "print(t[0,:,2])"
      ]
    }
  ],
  "metadata": {
    "colab": {
      "authorship_tag": "ABX9TyO9LH5AvzkL8pSCy/IePt8B",
      "collapsed_sections": [
        "5hNlFh54lOp-",
        "PhXepHB-E7d3"
      ],
      "gpuType": "T4",
      "include_colab_link": true,
      "provenance": []
    },
    "kernelspec": {
      "display_name": "Python 3",
      "name": "python3"
    },
    "language_info": {
      "codemirror_mode": {
        "name": "ipython",
        "version": 3
      },
      "file_extension": ".py",
      "mimetype": "text/x-python",
      "name": "python",
      "nbconvert_exporter": "python",
      "pygments_lexer": "ipython3",
      "version": "3.11.1"
    }
  },
  "nbformat": 4,
  "nbformat_minor": 0
}
