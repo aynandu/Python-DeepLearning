{
  "nbformat": 4,
  "nbformat_minor": 0,
  "metadata": {
    "colab": {
      "provenance": [],
      "authorship_tag": "ABX9TyPcpRTGyztMgH7Bef4BcA27",
      "include_colab_link": true
    },
    "kernelspec": {
      "name": "python3",
      "display_name": "Python 3"
    },
    "language_info": {
      "name": "python"
    }
  },
  "cells": [
    {
      "cell_type": "markdown",
      "metadata": {
        "id": "view-in-github",
        "colab_type": "text"
      },
      "source": [
        "<a href=\"https://colab.research.google.com/github/aynandu/Python-DeepLearning/blob/master/00_PyTorch_Fundamentals_Excercises.ipynb\" target=\"_parent\"><img src=\"https://colab.research.google.com/assets/colab-badge.svg\" alt=\"Open In Colab\"/></a>"
      ]
    },
    {
      "cell_type": "markdown",
      "source": [
        "#00. PyTorch Fundamentals Excercises"
      ],
      "metadata": {
        "id": "HvvxPBicCrR7"
      }
    },
    {
      "cell_type": "markdown",
      "source": [
        "1. Documentation reading - A big part of deep learning (and learning to code in general) is getting familiar with the documentation of a certain framework you're using. We'll be using the PyTorch documentation a lot throughout the rest of this course. So I'd recommend spending 10-minutes reading the following (it's okay if you don't get some things for now, the focus is not yet full understanding, it's awareness). See the documentation on torch.Tensor and for torch.cuda."
      ],
      "metadata": {
        "id": "L7ZAKhaNDGdv"
      }
    },
    {
      "cell_type": "code",
      "source": [
        "#2.Create a random tensor with shape (7, 7).\n",
        "import torch\n",
        "torch.rand(7,7)"
      ],
      "metadata": {
        "colab": {
          "base_uri": "https://localhost:8080/"
        },
        "id": "RY5gePqoEjD9",
        "outputId": "1ec6cb57-dd67-4376-fe90-060836f7a2eb"
      },
      "execution_count": 4,
      "outputs": [
        {
          "output_type": "execute_result",
          "data": {
            "text/plain": [
              "tensor([[0.2605, 0.4224, 0.4483, 0.8592, 0.8103, 0.8882, 0.5763],\n",
              "        [0.2960, 0.1957, 0.2141, 0.9115, 0.5196, 0.0666, 0.7042],\n",
              "        [0.5751, 0.3426, 0.2101, 0.9020, 0.4760, 0.7934, 0.3291],\n",
              "        [0.1195, 0.0695, 0.3757, 0.4808, 0.1702, 0.5446, 0.8017],\n",
              "        [0.2104, 0.4674, 0.6278, 0.6627, 0.7819, 0.7609, 0.9885],\n",
              "        [0.7451, 0.4811, 0.1169, 0.7727, 0.1242, 0.1246, 0.7639],\n",
              "        [0.3152, 0.7196, 0.1978, 0.8610, 0.9562, 0.9568, 0.2788]])"
            ]
          },
          "metadata": {},
          "execution_count": 4
        }
      ]
    },
    {
      "cell_type": "code",
      "source": [
        "#3.Perform a matrix multiplication on the tensor from 2 with another random tensor with shape (1, 7) (hint: you may have to transpose the second tensor).\n",
        "tensor_one=torch.rand(1,7)\n",
        "tensor_two=torch.rand(1,7)\n",
        "print(f\"Multipy Rows and Columns into single value:\\n {torch.matmul(tensor_one,tensor_two.T)} \\nMultiply each row, colum with another : \\n {torch.mul(tensor_one,tensor_two.T)}\")"
      ],
      "metadata": {
        "colab": {
          "base_uri": "https://localhost:8080/"
        },
        "id": "jaH61cIDE78u",
        "outputId": "cbd79bda-2ea1-45d1-9add-f47bdfed454e"
      },
      "execution_count": 11,
      "outputs": [
        {
          "output_type": "stream",
          "name": "stdout",
          "text": [
            "Multipy Rows and Columns into single value:\n",
            " tensor([[1.8602]]) \n",
            "Multiply each row, colum with another : \n",
            " tensor([[0.1994, 0.0684, 0.1027, 0.1351, 0.0454, 0.1694, 0.1481],\n",
            "        [0.0724, 0.0248, 0.0373, 0.0490, 0.0165, 0.0615, 0.0538],\n",
            "        [0.7880, 0.2701, 0.4059, 0.5340, 0.1794, 0.6695, 0.5854],\n",
            "        [0.6951, 0.2383, 0.3581, 0.4710, 0.1583, 0.5905, 0.5164],\n",
            "        [0.3677, 0.1261, 0.1894, 0.2492, 0.0837, 0.3124, 0.2732],\n",
            "        [0.3492, 0.1197, 0.1799, 0.2366, 0.0795, 0.2966, 0.2594],\n",
            "        [0.5098, 0.1747, 0.2626, 0.3454, 0.1161, 0.4331, 0.3787]])\n"
          ]
        }
      ]
    },
    {
      "cell_type": "code",
      "source": [
        "#4. Set the random seed to 0 and do exercises 2 & 3 over again.\n",
        "random_seed=0\n",
        "#Ex - 2\n",
        "torch.manual_seed(random_seed)\n",
        "print(f\"Random_Seed for Excercise 2: \\n{torch.rand(7,7)}\")\n",
        "\n",
        "#Ex - 3\n",
        "torch.manual_seed(random_seed)\n",
        "tensor_one=torch.rand(1,7)\n",
        "torch.manual_seed(random_seed)\n",
        "tensor_two=torch.rand(1,7)\n",
        "print(f\"\\n{tensor_two==tensor_one}\\n\")\n",
        "print(f\"Excercise 3 with random Seed : - Multipy Rows and Columns into single value:\\n {torch.matmul(tensor_one,tensor_two.T)} \\nMultiply each row, colum with another : \\n {torch.mul(tensor_one,tensor_two.T)}\")"
      ],
      "metadata": {
        "colab": {
          "base_uri": "https://localhost:8080/"
        },
        "id": "rk4MWQjMGPOi",
        "outputId": "437673e3-d227-4a93-dd4f-f58ca8651e42"
      },
      "execution_count": 19,
      "outputs": [
        {
          "output_type": "stream",
          "name": "stdout",
          "text": [
            "Random_Seed for Excercise 2: \n",
            "tensor([[0.4963, 0.7682, 0.0885, 0.1320, 0.3074, 0.6341, 0.4901],\n",
            "        [0.8964, 0.4556, 0.6323, 0.3489, 0.4017, 0.0223, 0.1689],\n",
            "        [0.2939, 0.5185, 0.6977, 0.8000, 0.1610, 0.2823, 0.6816],\n",
            "        [0.9152, 0.3971, 0.8742, 0.4194, 0.5529, 0.9527, 0.0362],\n",
            "        [0.1852, 0.3734, 0.3051, 0.9320, 0.1759, 0.2698, 0.1507],\n",
            "        [0.0317, 0.2081, 0.9298, 0.7231, 0.7423, 0.5263, 0.2437],\n",
            "        [0.5846, 0.0332, 0.1387, 0.2422, 0.8155, 0.7932, 0.2783]])\n",
            "\n",
            "tensor([[True, True, True, True, True, True, True]])\n",
            "\n",
            "Excercise 3 with random Seed : - Multipy Rows and Columns into single value:\n",
            " tensor([[1.5985]]) \n",
            "Multiply each row, colum with another : \n",
            " tensor([[0.2463, 0.3812, 0.0439, 0.0655, 0.1526, 0.3147, 0.2432],\n",
            "        [0.3812, 0.5902, 0.0680, 0.1014, 0.2362, 0.4871, 0.3765],\n",
            "        [0.0439, 0.0680, 0.0078, 0.0117, 0.0272, 0.0561, 0.0434],\n",
            "        [0.0655, 0.1014, 0.0117, 0.0174, 0.0406, 0.0837, 0.0647],\n",
            "        [0.1526, 0.2362, 0.0272, 0.0406, 0.0945, 0.1949, 0.1507],\n",
            "        [0.3147, 0.4871, 0.0561, 0.0837, 0.1949, 0.4021, 0.3108],\n",
            "        [0.2432, 0.3765, 0.0434, 0.0647, 0.1507, 0.3108, 0.2402]])\n"
          ]
        }
      ]
    },
    {
      "cell_type": "code",
      "source": [],
      "metadata": {
        "id": "Hc5kMzxoHp3x"
      },
      "execution_count": null,
      "outputs": []
    }
  ]
}